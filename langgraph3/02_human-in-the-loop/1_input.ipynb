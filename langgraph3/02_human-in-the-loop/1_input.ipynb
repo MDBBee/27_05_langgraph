{
 "cells": [
  {
   "cell_type": "markdown",
   "id": "c53202b4",
   "metadata": {},
   "source": [
    "## Human in the Loop🤵"
   ]
  },
  {
   "cell_type": "code",
   "execution_count": 8,
   "id": "be45a838",
   "metadata": {},
   "outputs": [],
   "source": [
    "from typing import TypedDict, Annotated, List\n",
    "from langchain_core.messages import HumanMessage\n",
    "from langgraph.graph import StateGraph, START, END, add_messages\n",
    "from langchain_google_genai import ChatGoogleGenerativeAI\n",
    "from dotenv import load_dotenv\n",
    "from IPython.display import Image, display"
   ]
  },
  {
   "cell_type": "code",
   "execution_count": 4,
   "id": "58341af9",
   "metadata": {},
   "outputs": [],
   "source": [
    "load_dotenv()\n",
    "llm = ChatGoogleGenerativeAI(model=\"gemini-2.0-flash\")\n",
    "\n",
    "\n",
    "class State(TypedDict):\n",
    "    messages: Annotated[list, add_messages]\n",
    "\n",
    "GENERATE_POST = \"generate_post\"\n",
    "GET_REVIEW_DECISION = \"get_review_decision\"\n",
    "POST = \"post\"\n",
    "COLLECT_FEEDBACK = \"collect_feedback\""
   ]
  },
  {
   "cell_type": "code",
   "execution_count": 6,
   "id": "500f8e47",
   "metadata": {},
   "outputs": [],
   "source": [
    "def generate_post(state : State):\n",
    "    return {\"messages\": [llm.invoke(state[\"messages\"])]}\n",
    "\n",
    "\n",
    "def get_review_decision(state: State):\n",
    "    post_content = state[\"messages\"][-1].content\n",
    "    print(\"\\nCurrent LinkedIn Post\\n\")\n",
    "    print(post_content)\n",
    "    print(\"\\n\")\n",
    "\n",
    "    decision = input(\"👁️Are you satisfied with this suggestion? (Yes/No): \")\n",
    "\n",
    "    if decision.lower() == \"yes\":\n",
    "        return POST\n",
    "    else:\n",
    "        return COLLECT_FEEDBACK\n",
    "    \n",
    "def post(state: State):\n",
    "    final_post = state[\"messages\"][-1].content\n",
    "    print(\"\\🗣️Final LinkedIn Post\\n\")\n",
    "    print(final_post)\n",
    "    print(\"\\n👍 Post approved 🥂\")\n",
    "\n",
    "def collect_feedback(state: State):\n",
    "    feedback = input(\"☹️How can I improve this post?\")\n",
    "    return {\"messages\": [HumanMessage(content=feedback)]}"
   ]
  },
  {
   "cell_type": "code",
   "execution_count": 13,
   "id": "32524caf",
   "metadata": {},
   "outputs": [],
   "source": [
    "graph = StateGraph(State)\n",
    "\n",
    "graph.add_node(GENERATE_POST, generate_post)\n",
    "graph.add_node(COLLECT_FEEDBACK, collect_feedback)\n",
    "graph.add_node(POST, post)\n",
    "\n",
    "graph.set_entry_point(GENERATE_POST)\n",
    "graph.add_conditional_edges(GENERATE_POST, get_review_decision, {POST:\"post\", COLLECT_FEEDBACK: \"collect_feedback\"})\n",
    "graph.add_edge(COLLECT_FEEDBACK, GENERATE_POST)\n",
    "graph.add_edge(POST, END)\n",
    "\n",
    "app = graph.compile()\n",
    "\n",
    "# display(Image(app.get_graph().draw_mermaid_png()))"
   ]
  },
  {
   "cell_type": "code",
   "execution_count": null,
   "id": "7593ef66",
   "metadata": {},
   "outputs": [],
   "source": [
    "result = app.invoke({\"messages\": [HumanMessage(content=\"Write me a linked in post about Integration into software engineering\")]})\n",
    "print(result)"
   ]
  },
  {
   "cell_type": "code",
   "execution_count": null,
   "id": "b9a46678",
   "metadata": {},
   "outputs": [],
   "source": []
  }
 ],
 "metadata": {
  "kernelspec": {
   "display_name": ".venv",
   "language": "python",
   "name": "python3"
  },
  "language_info": {
   "codemirror_mode": {
    "name": "ipython",
    "version": 3
   },
   "file_extension": ".py",
   "mimetype": "text/x-python",
   "name": "python",
   "nbconvert_exporter": "python",
   "pygments_lexer": "ipython3",
   "version": "3.11.9"
  }
 },
 "nbformat": 4,
 "nbformat_minor": 5
}
