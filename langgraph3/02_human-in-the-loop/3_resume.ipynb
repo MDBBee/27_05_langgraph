{
 "cells": [
  {
   "cell_type": "markdown",
   "id": "4f6978de",
   "metadata": {},
   "source": [
    "## Command and interrupt class 2(Graph control flow)\n",
    "*** Operations with Interrupt ***\n",
    "- To replace traditional \"Input\" function running in the terminal\n",
    "- Human in the loop\n",
    "- Resume\n",
    "- Update and Resume\n",
    "- Rewind/time Travel\n",
    "- Branch\n",
    "- Abort"
   ]
  },
  {
   "cell_type": "code",
   "execution_count": 10,
   "id": "8d5d9911",
   "metadata": {},
   "outputs": [],
   "source": [
    "from typing import TypedDict, Annotated, List\n",
    "from langchain_core.messages import HumanMessage\n",
    "from langgraph.graph import StateGraph, START, END, add_messages\n",
    "from langchain_google_genai import ChatGoogleGenerativeAI\n",
    "from dotenv import load_dotenv\n",
    "from IPython.display import Image, display\n",
    "from langgraph.types import Command, interrupt\n",
    "from langgraph.checkpoint.memory import MemorySaver"
   ]
  },
  {
   "cell_type": "code",
   "execution_count": 11,
   "id": "e9d3a15b",
   "metadata": {},
   "outputs": [],
   "source": [
    "memory = MemorySaver()\n",
    "\n",
    "class State(TypedDict):\n",
    "    text: str"
   ]
  },
  {
   "cell_type": "code",
   "execution_count": 12,
   "id": "0f09ae6e",
   "metadata": {},
   "outputs": [],
   "source": [
    "def node_a(state:State):\n",
    "    print(\"Node A\")\n",
    "    return Command(\n",
    "        goto=\"node_b\",\n",
    "        update={\"text\": state[\"text\"] + \"a\"}\n",
    "    )\n",
    "\n",
    "def node_b(state:State):\n",
    "    print(\"Node B\")\n",
    "\n",
    "    human_response = interrupt(\"Do you want to go to C or D? ..to answer type C/D: \")\n",
    "    print(\"Human review values: \", human_response)\n",
    "\n",
    "    if(human_response == \"C\"):\n",
    "        return Command(\n",
    "            goto=\"node_c\",\n",
    "            update={\"text\": state[\"text\"] + \"b\"}\n",
    "        )\n",
    "    elif (human_response == \"D\"):\n",
    "        return Command(\n",
    "            goto=\"node_d\",\n",
    "            update={\"text\": state[\"text\"] + \"b\"}\n",
    "        )\n",
    "\n",
    "def node_c(state:State):\n",
    "    print(\"Node C\")\n",
    "    return Command(\n",
    "        goto=END,\n",
    "        update={\"text\": state[\"text\"] + \"c\"}\n",
    "    )\n",
    "\n",
    "def node_d(state:State):\n",
    "    print(\"Node D\")\n",
    "    return Command(\n",
    "        goto=END,\n",
    "        update={\"text\": state[\"text\"] + \"d\"}\n",
    "    )"
   ]
  },
  {
   "cell_type": "code",
   "execution_count": 13,
   "id": "52c8ad7f",
   "metadata": {},
   "outputs": [],
   "source": [
    "graph = StateGraph(State)\n",
    "\n",
    "graph.add_node(\"node_a\", node_a)\n",
    "graph.add_node(\"node_b\", node_b)\n",
    "graph.add_node(\"node_c\", node_c)\n",
    "graph.add_node(\"node_d\", node_d)\n",
    "\n",
    "graph.set_entry_point(\"node_a\")\n",
    "\n",
    "app = graph.compile(checkpointer=memory)\n",
    "\n",
    "config = {\"configurable\": {\"thread_id\": \"1\"}}\n",
    "initial_state={\"text\":\"\"}\n",
    "# display(Image(app.get_graph().draw_mermaid_png()))"
   ]
  },
  {
   "cell_type": "code",
   "execution_count": 14,
   "id": "d59123ee",
   "metadata": {},
   "outputs": [
    {
     "name": "stdout",
     "output_type": "stream",
     "text": [
      "Node A\n",
      "Node B\n"
     ]
    },
    {
     "data": {
      "text/plain": [
       "{'text': 'a',\n",
       " '__interrupt__': [Interrupt(value='Do you want to go to C or D? ..to answer type C/D: ', resumable=True, ns=['node_b:ff0cef39-c7bc-36ec-b973-cd8a95c80bee'])]}"
      ]
     },
     "execution_count": 14,
     "metadata": {},
     "output_type": "execute_result"
    }
   ],
   "source": [
    "first_result = app.invoke(initial_state, config=config, stream_mode=\"values\")\n",
    "first_result"
   ]
  },
  {
   "cell_type": "code",
   "execution_count": 15,
   "id": "fd50347a",
   "metadata": {},
   "outputs": [
    {
     "name": "stdout",
     "output_type": "stream",
     "text": [
      "('node_b',)\n"
     ]
    }
   ],
   "source": [
    "print(app.get_state(config).next)"
   ]
  },
  {
   "cell_type": "code",
   "execution_count": 16,
   "id": "8adc3cf7",
   "metadata": {},
   "outputs": [
    {
     "name": "stdout",
     "output_type": "stream",
     "text": [
      "Node B\n",
      "Human review values:  D\n",
      "Node D\n"
     ]
    },
    {
     "data": {
      "text/plain": [
       "[{'node_b': {'text': 'ab'}}, {'node_d': {'text': 'abd'}}]"
      ]
     },
     "execution_count": 16,
     "metadata": {},
     "output_type": "execute_result"
    }
   ],
   "source": [
    "second_result = app.invoke(Command(resume=\"D\"), config, stream_mode=\"updates\")\n",
    "second_result"
   ]
  }
 ],
 "metadata": {
  "kernelspec": {
   "display_name": ".venv",
   "language": "python",
   "name": "python3"
  },
  "language_info": {
   "codemirror_mode": {
    "name": "ipython",
    "version": 3
   },
   "file_extension": ".py",
   "mimetype": "text/x-python",
   "name": "python",
   "nbconvert_exporter": "python",
   "pygments_lexer": "ipython3",
   "version": "3.11.9"
  }
 },
 "nbformat": 4,
 "nbformat_minor": 5
}
