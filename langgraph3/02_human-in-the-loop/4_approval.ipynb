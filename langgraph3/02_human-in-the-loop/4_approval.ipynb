{
 "cells": [
  {
   "cell_type": "markdown",
   "id": "f98713e5",
   "metadata": {},
   "source": [
    "# Graph8 🤵-In-The-Loop with interrupt and Command classes  \n",
    "- Approval"
   ]
  },
  {
   "cell_type": "code",
   "execution_count": 6,
   "id": "156d9d77",
   "metadata": {},
   "outputs": [],
   "source": [
    "from typing import TypedDict, Annotated, List\n",
    "from langchain_core.messages import HumanMessage\n",
    "from langgraph.graph import StateGraph, START, END, add_messages\n",
    "from langchain_google_genai import ChatGoogleGenerativeAI\n",
    "from dotenv import load_dotenv\n",
    "from IPython.display import Image, display\n",
    "from langgraph.types import Command, interrupt\n",
    "from langgraph.checkpoint.memory import MemorySaver\n",
    "from langchain_community.tools import TavilySearchResults\n",
    "from langgraph.prebuilt import ToolNode\n",
    "\n"
   ]
  },
  {
   "cell_type": "code",
   "execution_count": 7,
   "metadata": {},
   "outputs": [],
   "source": [
    "load_dotenv()\n",
    "llm = ChatGoogleGenerativeAI(model=\"gemini-2.0-flash\")\n",
    "# llm = ChatGroq(model=\"llama-3.1-8b-instant\")\n",
    "memory = MemorySaver()\n",
    "class State(TypedDict):\n",
    "    messages: Annotated[List, add_messages]\n",
    "\n",
    "# tav_key = os.environ[\"TAVILY_API_KEY\"]\n",
    "\n",
    "\n",
    "search_tool = TavilySearchResults(max_results=2)\n",
    "tools = [search_tool]\n",
    "\n",
    "llm_with_tools = llm.bind_tools(tools=tools)"
   ]
  },
  {
   "cell_type": "code",
   "execution_count": 8,
   "metadata": {},
   "outputs": [],
   "source": [
    "def model(state:State):\n",
    "    return {\"messages\": [llm_with_tools.invoke(state[\"messages\"])]}\n",
    "\n",
    "def router(state:State):\n",
    "    last_message = state[\"messages\"][-1]\n",
    "\n",
    "    if hasattr(last_message, \"tool_calls\") and len(last_message.tool_calls) > 0:\n",
    "        return \"tools\"\n",
    "    else: \n",
    "        return \"end\""
   ]
  },
  {
   "cell_type": "code",
   "execution_count": 9,
   "metadata": {},
   "outputs": [],
   "source": [
    "tool_node = ToolNode(tools=tools)\n",
    "\n",
    "graph = StateGraph(State)\n",
    "graph.add_node(\"model\", model)\n",
    "graph.add_node(\"tools\", tool_node)\n",
    "\n",
    "graph.set_entry_point(\"model\")\n",
    "graph.add_conditional_edges(\"model\", router, {\"tools\":\"tools\", \"end\":END})\n",
    "graph.add_edge(\"tools\", \"model\")\n",
    "\n",
    "app = graph.compile(checkpointer=memory, interrupt_before=[\"tools\"])"
   ]
  },
  {
   "cell_type": "code",
   "execution_count": 10,
   "metadata": {},
   "outputs": [
    {
     "data": {
      "image/png": "[encoded data removed]",
      "text/plain": [
       "<IPython.core.display.Image object>"
      ]
     },
     "metadata": {},
     "output_type": "display_data"
    }
   ],
   "source": [
    "from IPython.display import display, Image\n",
    "display(Image(app.get_graph().draw_mermaid_png()))"
   ]
  },
  {
   "cell_type": "code",
   "execution_count": 17,
   "id": "c23d5b53",
   "metadata": {},
   "outputs": [
    {
     "name": "stdout",
     "output_type": "stream",
     "text": [
      "================================\u001b[1m Human Message \u001b[0m=================================\n",
      "\n",
      "What is tomorrow's weather/Temperature in Vaasa, Finland?\n",
      "==================================\u001b[1m Ai Message \u001b[0m==================================\n",
      "Tool Calls:\n",
      "  tavily_search_results_json (b24e87b2-06c3-4e40-ad1e-2f4e038d52be)\n",
      " Call ID: b24e87b2-06c3-4e40-ad1e-2f4e038d52be\n",
      "  Args:\n",
      "    query: tomorrow's weather in Vaasa, Finland\n"
     ]
    }
   ],
   "source": [
    "config = {\"configurable\":{\"thread_id\": 1}}\n",
    "# app.stream is a generator, generates response after every input or node process\n",
    "# app.invoke returns the entirety of the graph after the graph ends in any way possible. \n",
    "results = app.stream({\"messages\": [HumanMessage(content=\"What is tomorrow's weather/Temperature in Vaasa, Finland?\")]}, config, stream_mode=\"values\")\n",
    "\n",
    "for action in results:\n",
    "    action[\"messages\"][-1].pretty_print()"
   ]
  },
  {
   "cell_type": "code",
   "execution_count": 15,
   "id": "11b86d94",
   "metadata": {},
   "outputs": [
    {
     "data": {
      "text/plain": [
       "('tools',)"
      ]
     },
     "execution_count": 15,
     "metadata": {},
     "output_type": "execute_result"
    }
   ],
   "source": [
    "currentGraphState = app.get_state(config)\n",
    "currentGraphState.next"
   ]
  },
  {
   "cell_type": "code",
   "execution_count": 18,
   "id": "27eba3b7",
   "metadata": {},
   "outputs": [
    {
     "name": "stdout",
     "output_type": "stream",
     "text": [
      "==================================\u001b[1m Ai Message \u001b[0m==================================\n",
      "Tool Calls:\n",
      "  tavily_search_results_json (b24e87b2-06c3-4e40-ad1e-2f4e038d52be)\n",
      " Call ID: b24e87b2-06c3-4e40-ad1e-2f4e038d52be\n",
      "  Args:\n",
      "    query: tomorrow's weather in Vaasa, Finland\n",
      "=================================\u001b[1m Tool Message \u001b[0m=================================\n",
      "Name: tavily_search_results_json\n",
      "\n",
      "[{\"title\": \"Vaasa weather in June 2025 - Weather25.com\", \"url\": \"https://www.weather25.com/europe/finland/western-finland/vaasa?page=month&month=June\", \"content\": \"| Month | Temperatures | Rainy Days | Dry Days | Snowy Days | Rainfall | Weather | More details |\\n| --- | --- | --- | --- | --- | --- | --- | --- |\\n| January | **-3°** / -6° | 5 | 7 | 20 | 67 mm | Awful | [Vaasa in January](https://www.weather25.com/europe/finland/western-finland/vaasa?page=month&month=January) |\\n| February | **-3°** / -7° | 5 | 5 | 19 | 62 mm | Awful | [Vaasa in February](https://www.weather25.com/europe/finland/western-finland/vaasa?page=month&month=February) | [...] | [1 Cloudy 8° /7°](https://www.weather25.com/europe/finland/western-finland/vaasa?page=tomorrow \\\"Weather in 1 june 2025\\\") | [2 Patchy rain possible 8° /7°](https://www.weather25.com/europe/finland/western-finland/vaasa?page=day#date=2025-06-02 \\\"Weather in 2 june 2025\\\") | [3 Partly cloudy 9° /8°](https://www.weather25.com/europe/finland/western-finland/vaasa?page=day#date=2025-06-03 \\\"Weather in 3 june 2025\\\") | [4 Patchy rain possible 10° [...] | September | **14°** / 10° | 7 | 23 | 0 | 91 mm | Ok | [Vaasa in September](https://www.weather25.com/europe/finland/western-finland/vaasa?page=month&month=September) |\\n| October | **7°** / 5° | 9 | 18 | 5 | 107 mm | Awful | [Vaasa in October](https://www.weather25.com/europe/finland/western-finland/vaasa?page=month&month=October) |\", \"score\": 0.82186085}, {\"title\": \"10-day weather forecast for Vaasa, Ostrobothnia, Finland\", \"url\": \"https://weather.com/en-IN/weather/tenday/l/0d8ba6cb72e4af1a6c0c0da4b11b258088d1d09fbfcfc8e504a464e342e4c924\", \"content\": \"## recents\\n\\nMenu\\n\\n## Forecast\\n\\n## Maps\\n\\n## Account\\n\\n## Privacy\\n\\n### Special Forecasts\\n\\n# **10-Day Weather**-Vaasa, Ostrobothnia, Finland\\n\\n## Moderate wind warning\\n\\n## Today\\n\\n## Sat 31 | Day\\n\\nAfternoon showers. High 10°C. Winds WNW at 25 to 40 km/h. Chance of rain 30%.\\n\\n## Sat 31 | Night\\n\\nWindy, with rain early. Low 7°C. Winds WNW at 30 to 50 km/h. Chance of rain 80%.\\n\\n## Sun 01\\n\\n## Sun 01 | Day\\n\\nPartly cloudy. High 12°C. Winds W at 15 to 30 km/h.\\n\\n## Sun 01 | Night [...] Mostly cloudy. Low 9°C. Winds SSE at 15 to 30 km/h.\\n\\n## Mon 02\\n\\n## Mon 02 | Day\\n\\nMorning showers. High 12°C. Winds S at 15 to 30 km/h. Chance of rain 50%.\\n\\n## Mon 02 | Night\\n\\nGenerally clear. Low 7°C. Winds WSW at 15 to 30 km/h.\\n\\n## Tue 03\\n\\n## Tue 03 | Day\\n\\nPartly cloudy. High 12°C. Winds W at 15 to 30 km/h.\\n\\n## Tue 03 | Night\\n\\nGenerally clear. Low 7°C. Winds SSW at 15 to 30 km/h.\\n\\n## Wed 04\\n\\n## Wed 04 | Day\\n\\nPartly cloudy. High 16°C. Winds SSW at 15 to 30 km/h.\\n\\n## Wed 04 | Night [...] Mostly cloudy. Low 8°C. Winds WSW at 15 to 25 km/h.\\n\\n## Tue 10\\n\\n## Tue 10 | Day\\n\\nPartly cloudy. High 13°C. Winds WSW at 15 to 30 km/h.\\n\\n## Tue 10 | Night\\n\\nShowers. Low 8°C. Winds WSW at 15 to 30 km/h. Chance of rain 30%.\\n\\n## Wed 11\\n\\n## Wed 11 | Day\\n\\nPartly cloudy. High 13°C. Winds W at 15 to 30 km/h.\\n\\n## Wed 11 | Night\\n\\nMostly cloudy. Low 8°C. Winds SW at 15 to 30 km/h.\\n\\n## Thu 12\\n\\n## Thu 12 | Day\\n\\nPartly cloudy. High 13°C. Winds SW at 15 to 30 km/h.\\n\\n## Thu 12 | Night\", \"score\": 0.7917732}]\n",
      "==================================\u001b[1m Ai Message \u001b[0m==================================\n",
      "\n",
      "For tomorrow, June 1, 2025, in Vaasa, Finland, the weather forecast is:\n",
      "\n",
      "*   **Day:** Partly cloudy with a high of 12°C. Winds will be from the west at 15 to 30 km/h.\n",
      "*   **Night:** Mostly cloudy with a low of 9°C. Winds will be from the south-southeast at 15 to 30 km/h.\n"
     ]
    }
   ],
   "source": [
    "activities = app.stream(None, config, stream_mode=\"values\")\n",
    "for activity in activities:\n",
    "    activity[\"messages\"][-1].pretty_print()"
   ]
  },
  {
   "cell_type": "code",
   "execution_count": null,
   "id": "8d88d68a",
   "metadata": {},
   "outputs": [],
   "source": []
  },
  {
   "cell_type": "code",
   "execution_count": null,
   "id": "2d310752",
   "metadata": {},
   "outputs": [],
   "source": []
  },
  {
   "cell_type": "code",
   "execution_count": null,
   "id": "45408c86",
   "metadata": {},
   "outputs": [],
   "source": []
  }
 ],
 "metadata": {
  "kernelspec": {
   "display_name": ".venv",
   "language": "python",
   "name": "python3"
  },
  "language_info": {
   "codemirror_mode": {
    "name": "ipython",
    "version": 3
   },
   "file_extension": ".py",
   "mimetype": "text/x-python",
   "name": "python",
   "nbconvert_exporter": "python",
   "pygments_lexer": "ipython3",
   "version": "3.11.9"
  }
 },
 "nbformat": 4,
 "nbformat_minor": 5
}
