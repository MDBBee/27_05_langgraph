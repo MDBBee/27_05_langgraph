{
 "cells": [
  {
   "cell_type": "markdown",
   "id": "7447b55d",
   "metadata": {},
   "source": [
    "## Subgraphs\n",
    "- Shared schema keys\n",
    "- Different schemas"
   ]
  },
  {
   "cell_type": "code",
   "execution_count": 3,
   "id": "c72481c5",
   "metadata": {},
   "outputs": [],
   "source": [
    "from typing import Annotated, TypedDict\n",
    "from langgraph.graph import StateGraph, END, add_messages, START\n",
    "from langchain_google_genai import ChatGoogleGenerativeAI\n",
    "from langchain_core.messages import AIMessage, HumanMessage\n",
    "from dotenv import load_dotenv\n",
    "from langchain_community.tools.tavily_search import TavilySearchResults\n",
    "from langgraph.prebuilt import ToolNode"
   ]
  },
  {
   "cell_type": "code",
   "execution_count": 57,
   "id": "153c3d26",
   "metadata": {},
   "outputs": [],
   "source": [
    "load_dotenv()\n",
    "\n",
    "class SubState(TypedDict):\n",
    "    messages: Annotated[list, add_messages]\n",
    "# Substate as child state\n",
    "search_tool = TavilySearchResults(max_results=2)\n",
    "tools = [search_tool]\n",
    "\n",
    "llm = ChatGoogleGenerativeAI(model=\"gemini-2.0-flash\")\n",
    "llm_with_tools = llm.bind_tools(tools)"
   ]
  },
  {
   "cell_type": "code",
   "execution_count": 58,
   "id": "41b9a56e",
   "metadata": {},
   "outputs": [],
   "source": [
    "def agent(state: SubState):\n",
    "    return {\n",
    "        \"messages\": [llm_with_tools.invoke(state[\"messages\"])]\n",
    "    }\n",
    "\n",
    "def router(state: SubState):\n",
    "    prev_message = state[\"messages\"][-1]\n",
    "\n",
    "    if(hasattr(prev_message,\"tool_calls\") and len(prev_message.tool_calls) > 0):\n",
    "        return \"tool\"\n",
    "    else:\n",
    "        return \"end\""
   ]
  },
  {
   "cell_type": "code",
   "execution_count": 59,
   "id": "a1b51e01",
   "metadata": {},
   "outputs": [],
   "source": [
    "tool_node = ToolNode(tools)\n",
    "\n",
    "subgraph = StateGraph(SubState)\n",
    "\n",
    "subgraph.add_node(\"agent\", agent)\n",
    "subgraph.add_node(\"tool_node\", tool_node)\n",
    "\n",
    "subgraph.add_edge(START, \"agent\")\n",
    "subgraph.add_conditional_edges(\"agent\", router, {\"tool\":\"tool_node\", \"end\": END})\n",
    "subgraph.add_edge(\"tool_node\", \"agent\")\n",
    "\n",
    "child_app = subgraph.compile()"
   ]
  },
  {
   "cell_type": "code",
   "execution_count": 61,
   "id": "b52033ce",
   "metadata": {},
   "outputs": [
    {
     "data": {
      "text/plain": [
       "{'messages': [HumanMessage(content=\"How is today's weather in Vaasa, Finland?\", additional_kwargs={}, response_metadata={}, id='64823e68-e604-4ec0-9f91-2b5309e8d173'),\n",
       "  AIMessage(content='', additional_kwargs={'function_call': {'name': 'tavily_search_results_json', 'arguments': '{\"query\": \"weather in Vaasa, Finland today\"}'}}, response_metadata={'prompt_feedback': {'block_reason': 0, 'safety_ratings': []}, 'finish_reason': 'STOP', 'model_name': 'gemini-2.0-flash', 'safety_ratings': []}, id='run--06e06657-61e1-4d8a-904a-e2f0497ddb09-0', tool_calls=[{'name': 'tavily_search_results_json', 'args': {'query': 'weather in Vaasa, Finland today'}, 'id': '2b15d488-ac23-449f-baad-28226606401f', 'type': 'tool_call'}], usage_metadata={'input_tokens': 61, 'output_tokens': 16, 'total_tokens': 77, 'input_token_details': {'cache_read': 0}}),\n",
       "  ToolMessage(content='[{\"title\": \"Vaasa January 2025 Historical Weather Data (Finland)\", \"url\": \"https://weatherspark.com/h/m/87765/2025/1/Historical-Weather-in-January-2025-in-Vaasa-Finland\", \"content\": \"Observed Weather in January 2025 in Vaasa18152229112233445566778899101011111212131314141515161617171818191920202121222223232424252526262727282829293030313112 AM12 AM3 AM3 AM6 AM6 AM9 AM9 AM12 PM12 PM3 PM3 PM6 PM6 PM9 PM9 PM12 AM12 AMDecFeb  *fog**haze**drizzle**light rain**moderate rain**heavy rain**freezing rain**sleet**snow grains**light snow**moderate snow**heavy snow**hail**thunderstorm*  The hourly observed weather, color coded by category (in order of severity). If multiple reports are [...] |  | -SN, -SHSN | | [Mon, Jan 6](/h/d/87765/2025/1/6/Historical-Weather-on-Monday-January-6-2025-in-Vaasa-Finland#Sections-ObservedWeather) | Freezing Fog, Patches of Fog |  | FZFG, BCFG | | [Tue, Jan 7](/h/d/87765/2025/1/7/Historical-Weather-on-Tuesday-January-7-2025-in-Vaasa-Finland#Sections-ObservedWeather) | Snow, Light Snow, Showers of Light Snow |  | SN, -SN, -SHSN | | [Wed, Jan [...] | [Sun, Jan 5](/h/d/87765/2025/1/5/Historical-Weather-on-Sunday-January-5-2025-in-Vaasa-Finland#Sections-ObservedWeather) | Light Snow, Showers of Light Snow |  | -SN, -SHSN |\\\\n| [Mon, Jan 6](/h/d/87765/2025/1/6/Historical-Weather-on-Monday-January-6-2025-in-Vaasa-Finland#Sections-ObservedWeather) | Freezing Fog, Patches of Fog |  | FZFG, BCFG |\", \"score\": 0.921929}]', name='tavily_search_results_json', id='5e0efdd6-e5b1-49af-932b-db4b8bf716bb', tool_call_id='2b15d488-ac23-449f-baad-28226606401f', artifact={'query': 'weather in Vaasa, Finland today', 'follow_up_questions': None, 'answer': None, 'images': [], 'results': [{'url': 'https://weatherspark.com/h/m/87765/2025/1/Historical-Weather-in-January-2025-in-Vaasa-Finland', 'title': 'Vaasa January 2025 Historical Weather Data (Finland)', 'content': 'Observed Weather in January 2025 in Vaasa18152229112233445566778899101011111212131314141515161617171818191920202121222223232424252526262727282829293030313112 AM12 AM3 AM3 AM6 AM6 AM9 AM9 AM12 PM12 PM3 PM3 PM6 PM6 PM9 PM9 PM12 AM12 AMDecFeb  *fog**haze**drizzle**light rain**moderate rain**heavy rain**freezing rain**sleet**snow grains**light snow**moderate snow**heavy snow**hail**thunderstorm*  The hourly observed weather, color coded by category (in order of severity). If multiple reports are [...] |  | -SN, -SHSN | | [Mon, Jan 6](/h/d/87765/2025/1/6/Historical-Weather-on-Monday-January-6-2025-in-Vaasa-Finland#Sections-ObservedWeather) | Freezing Fog, Patches of Fog |  | FZFG, BCFG | | [Tue, Jan 7](/h/d/87765/2025/1/7/Historical-Weather-on-Tuesday-January-7-2025-in-Vaasa-Finland#Sections-ObservedWeather) | Snow, Light Snow, Showers of Light Snow |  | SN, -SN, -SHSN | | [Wed, Jan [...] | [Sun, Jan 5](/h/d/87765/2025/1/5/Historical-Weather-on-Sunday-January-5-2025-in-Vaasa-Finland#Sections-ObservedWeather) | Light Snow, Showers of Light Snow |  | -SN, -SHSN |\\n| [Mon, Jan 6](/h/d/87765/2025/1/6/Historical-Weather-on-Monday-January-6-2025-in-Vaasa-Finland#Sections-ObservedWeather) | Freezing Fog, Patches of Fog |  | FZFG, BCFG |', 'score': 0.921929, 'raw_content': None}], 'response_time': 5.53}),\n",
       "  AIMessage(content=\"I'm sorry, but I don't have the current weather conditions for Vaasa, Finland. The search results provide historical weather data for January 2025, but not the real-time weather for today. To get the current weather information, you can try searching on a weather website or app.\", additional_kwargs={}, response_metadata={'prompt_feedback': {'block_reason': 0, 'safety_ratings': []}, 'finish_reason': 'STOP', 'model_name': 'gemini-2.0-flash', 'safety_ratings': []}, id='run--1b81336c-f4e2-42db-9f4e-946b0b12973a-0', usage_metadata={'input_tokens': 699, 'output_tokens': 65, 'total_tokens': 764, 'input_token_details': {'cache_read': 0}})]}"
      ]
     },
     "execution_count": 61,
     "metadata": {},
     "output_type": "execute_result"
    }
   ],
   "source": [
    "child_app.invoke({\"messages\": [HumanMessage(content=\"How is today's weather in Vaasa, Finland?\")]})"
   ]
  },
  {
   "cell_type": "markdown",
   "id": "9a18ff4f",
   "metadata": {},
   "source": [
    "### 1) Multi-agent with parent and child graph\n",
    "- Shared schema keys"
   ]
  },
  {
   "cell_type": "code",
   "execution_count": 46,
   "id": "116caa06",
   "metadata": {},
   "outputs": [
    {
     "data": {
      "text/plain": [
       "AIMessage(content=\"I'm sorry, I don't have the current weather conditions for Vaasa, Finland. The search results give historical weather data for January 2025.\", additional_kwargs={}, response_metadata={'prompt_feedback': {'block_reason': 0, 'safety_ratings': []}, 'finish_reason': 'STOP', 'model_name': 'gemini-2.0-flash', 'safety_ratings': []}, id='run--84b44268-94a0-4036-9c1b-704dd2aaf227-0', usage_metadata={'input_tokens': 661, 'output_tokens': 36, 'total_tokens': 697, 'input_token_details': {'cache_read': 0}})"
      ]
     },
     "execution_count": 46,
     "metadata": {},
     "output_type": "execute_result"
    }
   ],
   "source": [
    "from typing import List\n",
    "# Solution: add child_graph as a node in the parent graph\n",
    "\n",
    "\n",
    "class ParentState(TypedDict):\n",
    "    messages: Annotated[List, add_messages]\n",
    "\n",
    "parent_graph = StateGraph(ParentState)\n",
    "\n",
    "# Adding compiled child_graph-child_app as a node to parent_graph\n",
    "parent_graph.add_node(\"search_agent\", child_app)\n",
    "\n",
    "parent_graph.add_edge(START, \"search_agent\")\n",
    "parent_graph.add_edge(\"search_agent\", END)\n",
    "\n",
    "parent_app = parent_graph.compile()\n",
    "\n",
    "outcome = parent_app.invoke({\"messages\": [HumanMessage(content=\"How is today's weather in Vaasa, Finland \")]})\n",
    "# outcome = parent_app.stream({\"messages\": [HumanMessage(content=\"How is the weather in Vaasa, Finland today\")]}, stream_mode=\"values\")\n",
    "outcome[\"messages\"][-1]\n",
    "# outcome\n"
   ]
  },
  {
   "cell_type": "code",
   "execution_count": 47,
   "id": "12952e2f",
   "metadata": {},
   "outputs": [
    {
     "data": {
      "text/plain": [
       "{'messages': [HumanMessage(content=\"How is today's weather in Vaasa, Finland \", additional_kwargs={}, response_metadata={}, id='31676712-d35a-4a7f-aa19-6a71ca499087'),\n",
       "  AIMessage(content='', additional_kwargs={'function_call': {'name': 'tavily_search_results_json', 'arguments': '{\"query\": \"weather in Vaasa, Finland today\"}'}}, response_metadata={'prompt_feedback': {'block_reason': 0, 'safety_ratings': []}, 'finish_reason': 'STOP', 'model_name': 'gemini-2.0-flash', 'safety_ratings': []}, id='run--7ff1a5d8-28c0-4eb8-987e-c5f9d661be0e-0', tool_calls=[{'name': 'tavily_search_results_json', 'args': {'query': 'weather in Vaasa, Finland today'}, 'id': '58154dac-82b7-4eb9-8a72-8c03c46374d7', 'type': 'tool_call'}], usage_metadata={'input_tokens': 61, 'output_tokens': 16, 'total_tokens': 77, 'input_token_details': {'cache_read': 0}}),\n",
       "  ToolMessage(content='[{\"title\": \"Vaasa January 2025 Historical Weather Data (Finland)\", \"url\": \"https://weatherspark.com/h/m/87765/2025/1/Historical-Weather-in-January-2025-in-Vaasa-Finland\", \"content\": \"6](/h/d/87765/2025/1/6/Historical-Weather-on-Monday-January-6-2025-in-Vaasa-Finland#Sections-ObservedWeather) | Freezing Fog, Patches of Fog |  | FZFG, BCFG | | [Tue, Jan 7](/h/d/87765/2025/1/7/Historical-Weather-on-Tuesday-January-7-2025-in-Vaasa-Finland#Sections-ObservedWeather) | Snow, Light Snow, Showers of Light Snow |  | SN, -SN, -SHSN | | [Wed, Jan 8](/h/d/87765/2025/1/8/Historical-Weather-on-Wednesday-January-8-2025-in-Vaasa-Finland#Sections-ObservedWeather) | Light Snow, Showers of [...] Observed Weather in January 2025 in Vaasa1815222912 AM12 AM3 AM3 AM6 AM6 AM9 AM9 AM12 PM12 PM3 PM3 PM6 PM6 PM9 PM9 PM12 AM12 AMDecFeb  *fog**haze**drizzle**light rain**moderate rain**heavy rain**freezing rain**sleet**snow grains**light snow**moderate snow**heavy snow**hail**thunderstorm*  The hourly observed weather, color coded by category (in order of severity). If multiple reports are present, the most severe code is shown.  | Day | Observations | Precipitation | Codes | | --- | --- | --- | [...] | [Sun, Jan 5](/h/d/87765/2025/1/5/Historical-Weather-on-Sunday-January-5-2025-in-Vaasa-Finland#Sections-ObservedWeather) | Light Snow, Showers of Light Snow |  | -SN, -SHSN |\\\\n| [Mon, Jan 6](/h/d/87765/2025/1/6/Historical-Weather-on-Monday-January-6-2025-in-Vaasa-Finland#Sections-ObservedWeather) | Freezing Fog, Patches of Fog |  | FZFG, BCFG |\", \"score\": 0.93295}]', name='tavily_search_results_json', id='12e6d673-1903-4b2f-987c-da369818813f', tool_call_id='58154dac-82b7-4eb9-8a72-8c03c46374d7', artifact={'query': 'weather in Vaasa, Finland today', 'follow_up_questions': None, 'answer': None, 'images': [], 'results': [{'url': 'https://weatherspark.com/h/m/87765/2025/1/Historical-Weather-in-January-2025-in-Vaasa-Finland', 'title': 'Vaasa January 2025 Historical Weather Data (Finland)', 'content': '6](/h/d/87765/2025/1/6/Historical-Weather-on-Monday-January-6-2025-in-Vaasa-Finland#Sections-ObservedWeather) | Freezing Fog, Patches of Fog |  | FZFG, BCFG | | [Tue, Jan 7](/h/d/87765/2025/1/7/Historical-Weather-on-Tuesday-January-7-2025-in-Vaasa-Finland#Sections-ObservedWeather) | Snow, Light Snow, Showers of Light Snow |  | SN, -SN, -SHSN | | [Wed, Jan 8](/h/d/87765/2025/1/8/Historical-Weather-on-Wednesday-January-8-2025-in-Vaasa-Finland#Sections-ObservedWeather) | Light Snow, Showers of [...] Observed Weather in January 2025 in Vaasa1815222912 AM12 AM3 AM3 AM6 AM6 AM9 AM9 AM12 PM12 PM3 PM3 PM6 PM6 PM9 PM9 PM12 AM12 AMDecFeb  *fog**haze**drizzle**light rain**moderate rain**heavy rain**freezing rain**sleet**snow grains**light snow**moderate snow**heavy snow**hail**thunderstorm*  The hourly observed weather, color coded by category (in order of severity). If multiple reports are present, the most severe code is shown.  | Day | Observations | Precipitation | Codes | | --- | --- | --- | [...] | [Sun, Jan 5](/h/d/87765/2025/1/5/Historical-Weather-on-Sunday-January-5-2025-in-Vaasa-Finland#Sections-ObservedWeather) | Light Snow, Showers of Light Snow |  | -SN, -SHSN |\\n| [Mon, Jan 6](/h/d/87765/2025/1/6/Historical-Weather-on-Monday-January-6-2025-in-Vaasa-Finland#Sections-ObservedWeather) | Freezing Fog, Patches of Fog |  | FZFG, BCFG |', 'score': 0.93295, 'raw_content': None}], 'response_time': 5.82}),\n",
       "  AIMessage(content=\"I'm sorry, I don't have the current weather conditions for Vaasa, Finland. The search results give historical weather data for January 2025.\", additional_kwargs={}, response_metadata={'prompt_feedback': {'block_reason': 0, 'safety_ratings': []}, 'finish_reason': 'STOP', 'model_name': 'gemini-2.0-flash', 'safety_ratings': []}, id='run--84b44268-94a0-4036-9c1b-704dd2aaf227-0', usage_metadata={'input_tokens': 661, 'output_tokens': 36, 'total_tokens': 697, 'input_token_details': {'cache_read': 0}})]}"
      ]
     },
     "execution_count": 47,
     "metadata": {},
     "output_type": "execute_result"
    }
   ],
   "source": [
    "outcome\n",
    "# for chunck in outcome:\n",
    "#     print(chunck[\"messages\"][-1].pretty_print())"
   ]
  },
  {
   "cell_type": "markdown",
   "id": "2df8989e",
   "metadata": {},
   "source": [
    "### 2) Multi-agent with parent and child graph\n",
    "- Different schemas"
   ]
  },
  {
   "cell_type": "code",
   "execution_count": 64,
   "id": "dae8c37d",
   "metadata": {},
   "outputs": [],
   "source": [
    "from typing import Dict\n",
    "# Solution- Invoke childgraph/subgraph in a node inside the parentgraph\n",
    "\n",
    "class QueryState(TypedDict):\n",
    "    query:str\n",
    "    response: str\n",
    "\n",
    "def search_agent1(state: QueryState) -> Dict:\n",
    "    # Transformation from parent schema to subgraph schema\n",
    "    subgraph_input = {\"messages\": [HumanMessage(content=state[\"query\"])] }\n",
    "\n",
    "    subgraph_result = child_app.invoke(subgraph_input)\n",
    "\n",
    "    message = subgraph_result[\"messages\"][-1]\n",
    "  \n",
    "    return {\"response\": message.content}\n"
   ]
  },
  {
   "cell_type": "code",
   "execution_count": 66,
   "id": "849d7809",
   "metadata": {},
   "outputs": [],
   "source": [
    "parent_graph = StateGraph(QueryState)\n",
    "\n",
    "parent_graph.add_node(\"search_agent1\", search_agent1)\n",
    "\n",
    "parent_graph.add_edge(START, \"search_agent1\")\n",
    "parent_graph.add_edge(\"search_agent1\", END)\n",
    "\n",
    "parent_app = parent_graph.compile()\n",
    "# parent_app.invoke(input={\"query\": [HumanMessage(content=\"How is today's weather in Vaasa, Finland \")]})"
   ]
  }
 ],
 "metadata": {
  "kernelspec": {
   "display_name": ".venv",
   "language": "python",
   "name": "python3"
  },
  "language_info": {
   "codemirror_mode": {
    "name": "ipython",
    "version": 3
   },
   "file_extension": ".py",
   "mimetype": "text/x-python",
   "name": "python",
   "nbconvert_exporter": "python",
   "pygments_lexer": "ipython3",
   "version": "3.11.9"
  }
 },
 "nbformat": 4,
 "nbformat_minor": 5
}
