{
 "cells": [
  {
   "cell_type": "markdown",
   "id": "7447b55d",
   "metadata": {},
   "source": [
    "## Subgraphs\n",
    "- Shared schema keys\n",
    "- Different schemas"
   ]
  },
  {
   "cell_type": "code",
   "execution_count": 3,
   "id": "c72481c5",
   "metadata": {},
   "outputs": [],
   "source": [
    "from typing import Annotated, TypedDict\n",
    "from langgraph.graph import StateGraph, END, add_messages, START\n",
    "from langchain_google_genai import ChatGoogleGenerativeAI\n",
    "from langchain_core.messages import AIMessage, HumanMessage\n",
    "from dotenv import load_dotenv\n",
    "from langchain_community.tools.tavily_search import TavilySearchResults\n",
    "from langgraph.prebuilt import ToolNode"
   ]
  },
  {
   "cell_type": "code",
   "execution_count": 57,
   "id": "153c3d26",
   "metadata": {},
   "outputs": [],
   "source": [
    "load_dotenv()\n",
    "\n",
    "class SubState(TypedDict):\n",
    "    messages: Annotated[list, add_messages]\n",
    "# Substate as child state\n",
    "search_tool = TavilySearchResults(max_results=2)\n",
    "tools = [search_tool]\n",
    "\n",
    "llm = ChatGoogleGenerativeAI(model=\"gemini-2.0-flash\")\n",
    "llm_with_tools = llm.bind_tools(tools)"
   ]
  },
  {
   "cell_type": "code",
   "execution_count": 58,
   "id": "41b9a56e",
   "metadata": {},
   "outputs": [],
   "source": [
    "def agent(state: SubState):\n",
    "    return {\n",
    "        \"messages\": [llm_with_tools.invoke(state[\"messages\"])]\n",
    "    }\n",
    "\n",
    "def router(state: SubState):\n",
    "    prev_message = state[\"messages\"][-1]\n",
    "\n",
    "    if(hasattr(prev_message,\"tool_calls\") and len(prev_message.tool_calls) > 0):\n",
    "        return \"tool\"\n",
    "    else:\n",
    "        return \"end\""
   ]
  },
  {
   "cell_type": "code",
   "execution_count": 59,
   "id": "a1b51e01",
   "metadata": {},
   "outputs": [],
   "source": [
    "tool_node = ToolNode(tools)\n",
    "\n",
    "subgraph = StateGraph(SubState)\n",
    "\n",
    "subgraph.add_node(\"agent\", agent)\n",
    "subgraph.add_node(\"tool_node\", tool_node)\n",
    "\n",
    "subgraph.add_edge(START, \"agent\")\n",
    "subgraph.add_conditional_edges(\"agent\", router, {\"tool\":\"tool_node\", \"end\": END})\n",
    "subgraph.add_edge(\"tool_node\", \"agent\")\n",
    "\n",
    "child_app = subgraph.compile()"
   ]
  },
  {
   "cell_type": "code",
   "execution_count": 61,
   "id": "b52033ce",
   "metadata": {},
   "outputs": [
    {
     "data": {
      "text/plain": [
       "{'messages': [HumanMessage(content=\"How is today's weather in Vaasa, Finland?\", additional_kwargs={}, response_metadata={}, id='64823e68-e604-4ec0-9f91-2b5309e8d173'),\n",
       "  AIMessage(content='', additional_kwargs={'function_call': {'name': 'tavily_search_results_json', 'arguments': '{\"query\": \"weather in Vaasa, Finland today\"}'}}, response_metadata={'prompt_feedback': {'block_reason': 0, 'safety_ratings': []}, 'finish_reason': 'STOP', 'model_name': 'gemini-2.0-flash', 'safety_ratings': []}, id='run--06e06657-61e1-4d8a-904a-e2f0497ddb09-0', tool_calls=[{'name': 'tavily_search_results_json', 'args': {'query': 'weather in Vaasa, Finland today'}, 'id': '2b15d488-ac23-449f-baad-28226606401f', 'type': 'tool_call'}], usage_metadata={'input_tokens': 61, 'output_tokens': 16, 'total_tokens': 77, 'input_token_details': {'cache_read': 0}}),\n",
       "  ToolMessage(content='[{\"title\": \"Vaasa January 2025 Historical Weather Data (Finland)\", \"url\": \"https://weatherspark.com/h/m/87765/2025/1/Historical-Weather-in-January-2025-in-Vaasa-Finland\", \"content\": \"Observed Weather in January 2025 in Vaasa18152229112233445566778899101011111212131314141515161617171818191920202121222223232424252526262727282829293030313112 AM12 AM3 AM3 AM6 AM6 AM9 AM9 AM12 PM12 PM3 PM3 PM6 PM6 PM9 PM9 PM12 AM12 AMDecFeb  *fog**haze**drizzle**light rain**moderate rain**heavy rain**freezing rain**sleet**snow grains**light snow**moderate snow**heavy snow**hail**thunderstorm*  The hourly observed weather, color coded by category (in order of severity). If multiple reports are [...] |  | -SN, -SHSN | | [Mon, Jan 6](/h/d/87765/2025/1/6/Historical-Weather-on-Monday-January-6-2025-in-Vaasa-Finland#Sections-ObservedWeather) | Freezing Fog, Patches of Fog |  | FZFG, BCFG | | [Tue, Jan 7](/h/d/87765/2025/1/7/Historical-Weather-on-Tuesday-January-7-2025-in-Vaasa-Finland#Sections-ObservedWeather) | Snow, Light Snow, Showers of Light Snow |  | SN, -SN, -SHSN | | [Wed, Jan [...] | [Sun, Jan 5](/h/d/87765/2025/1/5/Historical-Weather-on-Sunday-January-5-2025-in-Vaasa-Finland#Sections-ObservedWeather) | Light Snow, Showers of Light Snow |  | -SN, -SHSN |\\\\n| [Mon, Jan 6](/h/d/87765/2025/1/6/Historical-Weather-on-Monday-January-6-2025-in-Vaasa-Finland#Sections-ObservedWeather) | Freezing Fog, Patches of Fog |  | FZFG, BCFG |\", \"score\": 0.921929}]', name='tavily_search_results_json', id='5e0efdd6-e5b1-49af-932b-db4b8bf716bb', tool_call_id='2b15d488-ac23-449f-baad-28226606401f', artifact={'query': 'weather in Vaasa, Finland today', 'follow_up_questions': None, 'answer': None, 'images': [], 'results': [{'url': 'https://weatherspark.com/h/m/87765/2025/1/Historical-Weather-in-January-2025-in-Vaasa-Finland', 'title': 'Vaasa January 2025 Historical Weather Data (Finland)', 'content': 'Observed Weather in January 2025 in Vaasa18152229112233445566778899101011111212131314141515161617171818191920202121222223232424252526262727282829293030313112 AM12 AM3 AM3 AM6 AM6 AM9 AM9 AM12 PM12 PM3 PM3 PM6 PM6 PM9 PM9 PM12 AM12 AMDecFeb  *fog**haze**drizzle**light rain**moderate rain**heavy rain**freezing rain**sleet**snow grains**light snow**moderate snow**heavy snow**hail**thunderstorm*  The hourly observed weather, color coded by category (in order of severity). If multiple reports are [...] |  | -SN, -SHSN | | [Mon, Jan 6](/h/d/87765/2025/1/6/Historical-Weather-on-Monday-January-6-2025-in-Vaasa-Finland#Sections-ObservedWeather) | Freezing Fog, Patches of Fog |  | FZFG, BCFG | | [Tue, Jan 7](/h/d/87765/2025/1/7/Historical-Weather-on-Tuesday-January-7-2025-in-Vaasa-Finland#Sections-ObservedWeather) | Snow, Light Snow, Showers of Light Snow |  | SN, -SN, -SHSN | | [Wed, Jan [...] | [Sun, Jan 5](/h/d/87765/2025/1/5/Historical-Weather-on-Sunday-January-5-2025-in-Vaasa-Finland#Sections-ObservedWeather) | Light Snow, Showers of Light Snow |  | -SN, -SHSN |\\n| [Mon, Jan 6](/h/d/87765/2025/1/6/Historical-Weather-on-Monday-January-6-2025-in-Vaasa-Finland#Sections-ObservedWeather) | Freezing Fog, Patches of Fog |  | FZFG, BCFG |', 'score': 0.921929, 'raw_content': None}], 'response_time': 5.53}),\n",
       "  AIMessage(content=\"I'm sorry, but I don't have the current weather conditions for Vaasa, Finland. The search results provide historical weather data for January 2025, but not the real-time weather for today. To get the current weather information, you can try searching on a weather website or app.\", additional_kwargs={}, response_metadata={'prompt_feedback': {'block_reason': 0, 'safety_ratings': []}, 'finish_reason': 'STOP', 'model_name': 'gemini-2.0-flash', 'safety_ratings': []}, id='run--1b81336c-f4e2-42db-9f4e-946b0b12973a-0', usage_metadata={'input_tokens': 699, 'output_tokens': 65, 'total_tokens': 764, 'input_token_details': {'cache_read': 0}})]}"
      ]
     },
     "execution_count": 61,
     "metadata": {},
     "output_type": "execute_result"
    }
   ],
   "source": [
    "child_app.invoke({\"messages\": [HumanMessage(content=\"How is today's weather in Vaasa, Finland?\")]})"
   ]
  },
  {
   "cell_type": "markdown",
   "id": "9a18ff4f",
   "metadata": {},
   "source": [
    "### 1) Multi-agent with parent and child graph\n",
    "- Shared schema keys"
   ]
  },
  {
   "cell_type": "code",
   "execution_count": 46,
   "id": "116caa06",
   "metadata": {},
   "outputs": [
    {
     "data": {
      "text/plain": [
       "AIMessage(content=\"I'm sorry, I don't have the current weather conditions for Vaasa, Finland. The search results give historical weather data for January 2025.\", additional_kwargs={}, response_metadata={'prompt_feedback': {'block_reason': 0, 'safety_ratings': []}, 'finish_reason': 'STOP', 'model_name': 'gemini-2.0-flash', 'safety_ratings': []}, id='run--84b44268-94a0-4036-9c1b-704dd2aaf227-0', usage_metadata={'input_tokens': 661, 'output_tokens': 36, 'total_tokens': 697, 'input_token_details': {'cache_read': 0}})"
      ]
     },
     "execution_count": 46,
     "metadata": {},
     "output_type": "execute_result"
    }
   ],
   "source": [
    "from typing import List\n",
    "# Solution: add child_graph as a node in the parent graph\n",
    "\n",
    "\n",
    "class ParentState(TypedDict):\n",
    "    messages: Annotated[List, add_messages]\n",
    "\n",
    "parent_graph = StateGraph(ParentState)\n",
    "\n",
    "# Adding compiled child_graph-child_app as a node to parent_graph\n",
    "parent_graph.add_node(\"search_agent\", child_app)\n",
    "\n",
    "parent_graph.add_edge(START, \"search_agent\")\n",
    "parent_graph.add_edge(\"search_agent\", END)\n",
    "\n",
    "parent_app = parent_graph.compile()\n",
    "\n",
    "outcome = parent_app.invoke({\"messages\": [HumanMessage(content=\"How is today's weather in Vaasa, Finland \")]})\n",
    "# outcome = parent_app.stream({\"messages\": [HumanMessage(content=\"How is the weather in Vaasa, Finland today\")]}, stream_mode=\"values\")\n",
    "outcome[\"messages\"][-1]\n",
    "# outcome\n"
   ]
  },
  {
   "cell_type": "code",
   "execution_count": 47,
   "id": "12952e2f",
   "metadata": {},
   "outputs": [
    {
     "data": {
      "text/plain": [
       "{'messages': [HumanMessage(content=\"How is today's weather in Vaasa, Finland \", additional_kwargs={}, response_metadata={}, id='31676712-d35a-4a7f-aa19-6a71ca499087'),\n",
       "  AIMessage(content='', additional_kwargs={'function_call': {'name': 'tavily_search_results_json', 'arguments': '{\"query\": \"weather in Vaasa, Finland today\"}'}}, response_metadata={'prompt_feedback': {'block_reason': 0, 'safety_ratings': []}, 'finish_reason': 'STOP', 'model_name': 'gemini-2.0-flash', 'safety_ratings': []}, id='run--7ff1a5d8-28c0-4eb8-987e-c5f9d661be0e-0', tool_calls=[{'name': 'tavily_search_results_json', 'args': {'query': 'weather in Vaasa, Finland today'}, 'id': '58154dac-82b7-4eb9-8a72-8c03c46374d7', 'type': 'tool_call'}], usage_metadata={'input_tokens': 61, 'output_tokens': 16, 'total_tokens': 77, 'input_token_details': {'cache_read': 0}}),\n",
       "  ToolMessage(content='[{\"title\": \"Vaasa January 2025 Historical Weather Data (Finland)\", \"url\": \"https://weatherspark.com/h/m/87765/2025/1/Historical-Weather-in-January-2025-in-Vaasa-Finland\", \"content\": \"6](/h/d/87765/2025/1/6/Historical-Weather-on-Monday-January-6-2025-in-Vaasa-Finland#Sections-ObservedWeather) | Freezing Fog, Patches of Fog |  | FZFG, BCFG | | [Tue, Jan 7](/h/d/87765/2025/1/7/Historical-Weather-on-Tuesday-January-7-2025-in-Vaasa-Finland#Sections-ObservedWeather) | Snow, Light Snow, Showers of Light Snow |  | SN, -SN, -SHSN | | [Wed, Jan 8](/h/d/87765/2025/1/8/Historical-Weather-on-Wednesday-January-8-2025-in-Vaasa-Finland#Sections-ObservedWeather) | Light Snow, Showers of [...] Observed Weather in January 2025 in Vaasa1815222912 AM12 AM3 AM3 AM6 AM6 AM9 AM9 AM12 PM12 PM3 PM3 PM6 PM6 PM9 PM9 PM12 AM12 AMDecFeb  *fog**haze**drizzle**light rain**moderate rain**heavy rain**freezing rain**sleet**snow grains**light snow**moderate snow**heavy snow**hail**thunderstorm*  The hourly observed weather, color coded by category (in order of severity). If multiple reports are present, the most severe code is shown.  | Day | Observations | Precipitation | Codes | | --- | --- | --- | [...] | [Sun, Jan 5](/h/d/87765/2025/1/5/Historical-Weather-on-Sunday-January-5-2025-in-Vaasa-Finland#Sections-ObservedWeather) | Light Snow, Showers of Light Snow |  | -SN, -SHSN |\\\\n| [Mon, Jan 6](/h/d/87765/2025/1/6/Historical-Weather-on-Monday-January-6-2025-in-Vaasa-Finland#Sections-ObservedWeather) | Freezing Fog, Patches of Fog |  | FZFG, BCFG |\", \"score\": 0.93295}]', name='tavily_search_results_json', id='12e6d673-1903-4b2f-987c-da369818813f', tool_call_id='58154dac-82b7-4eb9-8a72-8c03c46374d7', artifact={'query': 'weather in Vaasa, Finland today', 'follow_up_questions': None, 'answer': None, 'images': [], 'results': [{'url': 'https://weatherspark.com/h/m/87765/2025/1/Historical-Weather-in-January-2025-in-Vaasa-Finland', 'title': 'Vaasa January 2025 Historical Weather Data (Finland)', 'content': '6](/h/d/87765/2025/1/6/Historical-Weather-on-Monday-January-6-2025-in-Vaasa-Finland#Sections-ObservedWeather) | Freezing Fog, Patches of Fog |  | FZFG, BCFG | | [Tue, Jan 7](/h/d/87765/2025/1/7/Historical-Weather-on-Tuesday-January-7-2025-in-Vaasa-Finland#Sections-ObservedWeather) | Snow, Light Snow, Showers of Light Snow |  | SN, -SN, -SHSN | | [Wed, Jan 8](/h/d/87765/2025/1/8/Historical-Weather-on-Wednesday-January-8-2025-in-Vaasa-Finland#Sections-ObservedWeather) | Light Snow, Showers of [...] Observed Weather in January 2025 in Vaasa1815222912 AM12 AM3 AM3 AM6 AM6 AM9 AM9 AM12 PM12 PM3 PM3 PM6 PM6 PM9 PM9 PM12 AM12 AMDecFeb  *fog**haze**drizzle**light rain**moderate rain**heavy rain**freezing rain**sleet**snow grains**light snow**moderate snow**heavy snow**hail**thunderstorm*  The hourly observed weather, color coded by category (in order of severity). If multiple reports are present, the most severe code is shown.  | Day | Observations | Precipitation | Codes | | --- | --- | --- | [...] | [Sun, Jan 5](/h/d/87765/2025/1/5/Historical-Weather-on-Sunday-January-5-2025-in-Vaasa-Finland#Sections-ObservedWeather) | Light Snow, Showers of Light Snow |  | -SN, -SHSN |\\n| [Mon, Jan 6](/h/d/87765/2025/1/6/Historical-Weather-on-Monday-January-6-2025-in-Vaasa-Finland#Sections-ObservedWeather) | Freezing Fog, Patches of Fog |  | FZFG, BCFG |', 'score': 0.93295, 'raw_content': None}], 'response_time': 5.82}),\n",
       "  AIMessage(content=\"I'm sorry, I don't have the current weather conditions for Vaasa, Finland. The search results give historical weather data for January 2025.\", additional_kwargs={}, response_metadata={'prompt_feedback': {'block_reason': 0, 'safety_ratings': []}, 'finish_reason': 'STOP', 'model_name': 'gemini-2.0-flash', 'safety_ratings': []}, id='run--84b44268-94a0-4036-9c1b-704dd2aaf227-0', usage_metadata={'input_tokens': 661, 'output_tokens': 36, 'total_tokens': 697, 'input_token_details': {'cache_read': 0}})]}"
      ]
     },
     "execution_count": 47,
     "metadata": {},
     "output_type": "execute_result"
    }
   ],
   "source": [
    "outcome\n",
    "# for chunck in outcome:\n",
    "#     print(chunck[\"messages\"][-1].pretty_print())"
   ]
  },
  {
   "cell_type": "markdown",
   "id": "2df8989e",
   "metadata": {},
   "source": [
    "### 2) Multi-agent with parent and child graph\n",
    "- Different schemas"
   ]
  },
  {
   "cell_type": "code",
   "execution_count": 64,
   "id": "dae8c37d",
   "metadata": {},
   "outputs": [],
   "source": [
    "from typing import Dict\n",
    "# Solution- Invoke childgraph/subgraph in a node inside the parentgraph\n",
    "\n",
    "class QueryState(TypedDict):\n",
    "    query:str\n",
    "    response: str\n",
    "\n",
    "def search_agent1(state: QueryState) -> Dict:\n",
    "    # Transformation from parent schema to subgraph schema\n",
    "    subgraph_input = {\"messages\": [HumanMessage(content=state[\"query\"])] }\n",
    "\n",
    "    subgraph_result = child_app.invoke(subgraph_input)\n",
    "\n",
    "    message = subgraph_result[\"messages\"][-1]\n",
    "  \n",
    "    return {\"response\": message.content}\n"
   ]
  },
  {
   "cell_type": "code",
   "execution_count": 65,
   "id": "849d7809",
   "metadata": {},
   "outputs": [
    {
     "ename": "ValidationError",
     "evalue": "3 validation errors for HumanMessage\ncontent.str\n  Input should be a valid string [type=string_type, input_value=[HumanMessage(content=\"Ho..., response_metadata={})], input_type=list]\n    For further information visit https://errors.pydantic.dev/2.11/v/string_type\ncontent.list[union[str,dict[any,any]]].0.str\n  Input should be a valid string [type=string_type, input_value=HumanMessage(content=\"How...}, response_metadata={}), input_type=HumanMessage]\n    For further information visit https://errors.pydantic.dev/2.11/v/string_type\ncontent.list[union[str,dict[any,any]]].0.dict[any,any]\n  Input should be a valid dictionary [type=dict_type, input_value=HumanMessage(content=\"How...}, response_metadata={}), input_type=HumanMessage]\n    For further information visit https://errors.pydantic.dev/2.11/v/dict_type",
     "output_type": "error",
     "traceback": [
      "\u001b[31m---------------------------------------------------------------------------\u001b[39m",
      "\u001b[31mValidationError\u001b[39m                           Traceback (most recent call last)",
      "\u001b[36mCell\u001b[39m\u001b[36m \u001b[39m\u001b[32mIn[65]\u001b[39m\u001b[32m, line 9\u001b[39m\n\u001b[32m      6\u001b[39m parent_graph.add_edge(\u001b[33m\"\u001b[39m\u001b[33msearch_agent1\u001b[39m\u001b[33m\"\u001b[39m, END)\n\u001b[32m      8\u001b[39m parent_app = parent_graph.compile()\n\u001b[32m----> \u001b[39m\u001b[32m9\u001b[39m \u001b[43mparent_app\u001b[49m\u001b[43m.\u001b[49m\u001b[43minvoke\u001b[49m\u001b[43m(\u001b[49m\u001b[38;5;28;43minput\u001b[39;49m\u001b[43m=\u001b[49m\u001b[43m{\u001b[49m\u001b[33;43m\"\u001b[39;49m\u001b[33;43mquery\u001b[39;49m\u001b[33;43m\"\u001b[39;49m\u001b[43m:\u001b[49m\u001b[43m \u001b[49m\u001b[43m[\u001b[49m\u001b[43mHumanMessage\u001b[49m\u001b[43m(\u001b[49m\u001b[43mcontent\u001b[49m\u001b[43m=\u001b[49m\u001b[33;43m\"\u001b[39;49m\u001b[33;43mHow is today\u001b[39;49m\u001b[33;43m'\u001b[39;49m\u001b[33;43ms weather in Vaasa, Finland \u001b[39;49m\u001b[33;43m\"\u001b[39;49m\u001b[43m)\u001b[49m\u001b[43m]\u001b[49m\u001b[43m}\u001b[49m\u001b[43m)\u001b[49m\n",
      "\u001b[36mFile \u001b[39m\u001b[32mc:\\Users\\maxdb\\Desktop\\LangGraph_Python\\langgraph_05_jupitern\\.venv\\Lib\\site-packages\\langgraph\\pregel\\__init__.py:2719\u001b[39m, in \u001b[36mPregel.invoke\u001b[39m\u001b[34m(self, input, config, stream_mode, output_keys, interrupt_before, interrupt_after, checkpoint_during, debug, **kwargs)\u001b[39m\n\u001b[32m   2716\u001b[39m chunks: \u001b[38;5;28mlist\u001b[39m[Union[\u001b[38;5;28mdict\u001b[39m[\u001b[38;5;28mstr\u001b[39m, Any], Any]] = []\n\u001b[32m   2717\u001b[39m interrupts: \u001b[38;5;28mlist\u001b[39m[Interrupt] = []\n\u001b[32m-> \u001b[39m\u001b[32m2719\u001b[39m \u001b[43m\u001b[49m\u001b[38;5;28;43;01mfor\u001b[39;49;00m\u001b[43m \u001b[49m\u001b[43mchunk\u001b[49m\u001b[43m \u001b[49m\u001b[38;5;129;43;01min\u001b[39;49;00m\u001b[43m \u001b[49m\u001b[38;5;28;43mself\u001b[39;49m\u001b[43m.\u001b[49m\u001b[43mstream\u001b[49m\u001b[43m(\u001b[49m\n\u001b[32m   2720\u001b[39m \u001b[43m    \u001b[49m\u001b[38;5;28;43minput\u001b[39;49m\u001b[43m,\u001b[49m\n\u001b[32m   2721\u001b[39m \u001b[43m    \u001b[49m\u001b[43mconfig\u001b[49m\u001b[43m,\u001b[49m\n\u001b[32m   2722\u001b[39m \u001b[43m    \u001b[49m\u001b[43mstream_mode\u001b[49m\u001b[43m=\u001b[49m\u001b[43mstream_mode\u001b[49m\u001b[43m,\u001b[49m\n\u001b[32m   2723\u001b[39m \u001b[43m    \u001b[49m\u001b[43moutput_keys\u001b[49m\u001b[43m=\u001b[49m\u001b[43moutput_keys\u001b[49m\u001b[43m,\u001b[49m\n\u001b[32m   2724\u001b[39m \u001b[43m    \u001b[49m\u001b[43minterrupt_before\u001b[49m\u001b[43m=\u001b[49m\u001b[43minterrupt_before\u001b[49m\u001b[43m,\u001b[49m\n\u001b[32m   2725\u001b[39m \u001b[43m    \u001b[49m\u001b[43minterrupt_after\u001b[49m\u001b[43m=\u001b[49m\u001b[43minterrupt_after\u001b[49m\u001b[43m,\u001b[49m\n\u001b[32m   2726\u001b[39m \u001b[43m    \u001b[49m\u001b[43mcheckpoint_during\u001b[49m\u001b[43m=\u001b[49m\u001b[43mcheckpoint_during\u001b[49m\u001b[43m,\u001b[49m\n\u001b[32m   2727\u001b[39m \u001b[43m    \u001b[49m\u001b[43mdebug\u001b[49m\u001b[43m=\u001b[49m\u001b[43mdebug\u001b[49m\u001b[43m,\u001b[49m\n\u001b[32m   2728\u001b[39m \u001b[43m    \u001b[49m\u001b[43m*\u001b[49m\u001b[43m*\u001b[49m\u001b[43mkwargs\u001b[49m\u001b[43m,\u001b[49m\n\u001b[32m   2729\u001b[39m \u001b[43m\u001b[49m\u001b[43m)\u001b[49m\u001b[43m:\u001b[49m\n\u001b[32m   2730\u001b[39m \u001b[43m    \u001b[49m\u001b[38;5;28;43;01mif\u001b[39;49;00m\u001b[43m \u001b[49m\u001b[43mstream_mode\u001b[49m\u001b[43m \u001b[49m\u001b[43m==\u001b[49m\u001b[43m \u001b[49m\u001b[33;43m\"\u001b[39;49m\u001b[33;43mvalues\u001b[39;49m\u001b[33;43m\"\u001b[39;49m\u001b[43m:\u001b[49m\n\u001b[32m   2731\u001b[39m \u001b[43m        \u001b[49m\u001b[38;5;28;43;01mif\u001b[39;49;00m\u001b[43m \u001b[49m\u001b[43m(\u001b[49m\n\u001b[32m   2732\u001b[39m \u001b[43m            \u001b[49m\u001b[38;5;28;43misinstance\u001b[39;49m\u001b[43m(\u001b[49m\u001b[43mchunk\u001b[49m\u001b[43m,\u001b[49m\u001b[43m \u001b[49m\u001b[38;5;28;43mdict\u001b[39;49m\u001b[43m)\u001b[49m\n\u001b[32m   2733\u001b[39m \u001b[43m            \u001b[49m\u001b[38;5;129;43;01mand\u001b[39;49;00m\u001b[43m \u001b[49m\u001b[43m(\u001b[49m\u001b[43mints\u001b[49m\u001b[43m \u001b[49m\u001b[43m:=\u001b[49m\u001b[43m \u001b[49m\u001b[43mchunk\u001b[49m\u001b[43m.\u001b[49m\u001b[43mget\u001b[49m\u001b[43m(\u001b[49m\u001b[43mINTERRUPT\u001b[49m\u001b[43m)\u001b[49m\u001b[43m)\u001b[49m\u001b[43m \u001b[49m\u001b[38;5;129;43;01mis\u001b[39;49;00m\u001b[43m \u001b[49m\u001b[38;5;129;43;01mnot\u001b[39;49;00m\u001b[43m \u001b[49m\u001b[38;5;28;43;01mNone\u001b[39;49;00m\n\u001b[32m   2734\u001b[39m \u001b[43m        \u001b[49m\u001b[43m)\u001b[49m\u001b[43m:\u001b[49m\n",
      "\u001b[36mFile \u001b[39m\u001b[32mc:\\Users\\maxdb\\Desktop\\LangGraph_Python\\langgraph_05_jupitern\\.venv\\Lib\\site-packages\\langgraph\\pregel\\__init__.py:2436\u001b[39m, in \u001b[36mPregel.stream\u001b[39m\u001b[34m(self, input, config, stream_mode, output_keys, interrupt_before, interrupt_after, checkpoint_during, debug, subgraphs)\u001b[39m\n\u001b[32m   2434\u001b[39m         \u001b[38;5;28;01mfor\u001b[39;00m task \u001b[38;5;129;01min\u001b[39;00m loop.match_cached_writes():\n\u001b[32m   2435\u001b[39m             loop.output_writes(task.id, task.writes, cached=\u001b[38;5;28;01mTrue\u001b[39;00m)\n\u001b[32m-> \u001b[39m\u001b[32m2436\u001b[39m \u001b[43m        \u001b[49m\u001b[38;5;28;43;01mfor\u001b[39;49;00m\u001b[43m \u001b[49m\u001b[43m_\u001b[49m\u001b[43m \u001b[49m\u001b[38;5;129;43;01min\u001b[39;49;00m\u001b[43m \u001b[49m\u001b[43mrunner\u001b[49m\u001b[43m.\u001b[49m\u001b[43mtick\u001b[49m\u001b[43m(\u001b[49m\n\u001b[32m   2437\u001b[39m \u001b[43m            \u001b[49m\u001b[43m[\u001b[49m\u001b[43mt\u001b[49m\u001b[43m \u001b[49m\u001b[38;5;28;43;01mfor\u001b[39;49;00m\u001b[43m \u001b[49m\u001b[43mt\u001b[49m\u001b[43m \u001b[49m\u001b[38;5;129;43;01min\u001b[39;49;00m\u001b[43m \u001b[49m\u001b[43mloop\u001b[49m\u001b[43m.\u001b[49m\u001b[43mtasks\u001b[49m\u001b[43m.\u001b[49m\u001b[43mvalues\u001b[49m\u001b[43m(\u001b[49m\u001b[43m)\u001b[49m\u001b[43m \u001b[49m\u001b[38;5;28;43;01mif\u001b[39;49;00m\u001b[43m \u001b[49m\u001b[38;5;129;43;01mnot\u001b[39;49;00m\u001b[43m \u001b[49m\u001b[43mt\u001b[49m\u001b[43m.\u001b[49m\u001b[43mwrites\u001b[49m\u001b[43m]\u001b[49m\u001b[43m,\u001b[49m\n\u001b[32m   2438\u001b[39m \u001b[43m            \u001b[49m\u001b[43mtimeout\u001b[49m\u001b[43m=\u001b[49m\u001b[38;5;28;43mself\u001b[39;49m\u001b[43m.\u001b[49m\u001b[43mstep_timeout\u001b[49m\u001b[43m,\u001b[49m\n\u001b[32m   2439\u001b[39m \u001b[43m            \u001b[49m\u001b[43mget_waiter\u001b[49m\u001b[43m=\u001b[49m\u001b[43mget_waiter\u001b[49m\u001b[43m,\u001b[49m\n\u001b[32m   2440\u001b[39m \u001b[43m            \u001b[49m\u001b[43mschedule_task\u001b[49m\u001b[43m=\u001b[49m\u001b[43mloop\u001b[49m\u001b[43m.\u001b[49m\u001b[43maccept_push\u001b[49m\u001b[43m,\u001b[49m\n\u001b[32m   2441\u001b[39m \u001b[43m        \u001b[49m\u001b[43m)\u001b[49m\u001b[43m:\u001b[49m\n\u001b[32m   2442\u001b[39m \u001b[43m            \u001b[49m\u001b[38;5;66;43;03m# emit output\u001b[39;49;00m\n\u001b[32m   2443\u001b[39m \u001b[43m            \u001b[49m\u001b[38;5;28;43;01myield from\u001b[39;49;00m\u001b[43m \u001b[49m\u001b[43moutput\u001b[49m\u001b[43m(\u001b[49m\u001b[43m)\u001b[49m\n\u001b[32m   2444\u001b[39m \u001b[38;5;66;03m# emit output\u001b[39;00m\n",
      "\u001b[36mFile \u001b[39m\u001b[32mc:\\Users\\maxdb\\Desktop\\LangGraph_Python\\langgraph_05_jupitern\\.venv\\Lib\\site-packages\\langgraph\\pregel\\runner.py:161\u001b[39m, in \u001b[36mPregelRunner.tick\u001b[39m\u001b[34m(self, tasks, reraise, timeout, retry_policy, get_waiter, schedule_task)\u001b[39m\n\u001b[32m    159\u001b[39m t = tasks[\u001b[32m0\u001b[39m]\n\u001b[32m    160\u001b[39m \u001b[38;5;28;01mtry\u001b[39;00m:\n\u001b[32m--> \u001b[39m\u001b[32m161\u001b[39m     \u001b[43mrun_with_retry\u001b[49m\u001b[43m(\u001b[49m\n\u001b[32m    162\u001b[39m \u001b[43m        \u001b[49m\u001b[43mt\u001b[49m\u001b[43m,\u001b[49m\n\u001b[32m    163\u001b[39m \u001b[43m        \u001b[49m\u001b[43mretry_policy\u001b[49m\u001b[43m,\u001b[49m\n\u001b[32m    164\u001b[39m \u001b[43m        \u001b[49m\u001b[43mconfigurable\u001b[49m\u001b[43m=\u001b[49m\u001b[43m{\u001b[49m\n\u001b[32m    165\u001b[39m \u001b[43m            \u001b[49m\u001b[43mCONFIG_KEY_CALL\u001b[49m\u001b[43m:\u001b[49m\u001b[43m \u001b[49m\u001b[43mpartial\u001b[49m\u001b[43m(\u001b[49m\n\u001b[32m    166\u001b[39m \u001b[43m                \u001b[49m\u001b[43m_call\u001b[49m\u001b[43m,\u001b[49m\n\u001b[32m    167\u001b[39m \u001b[43m                \u001b[49m\u001b[43mweakref\u001b[49m\u001b[43m.\u001b[49m\u001b[43mref\u001b[49m\u001b[43m(\u001b[49m\u001b[43mt\u001b[49m\u001b[43m)\u001b[49m\u001b[43m,\u001b[49m\n\u001b[32m    168\u001b[39m \u001b[43m                \u001b[49m\u001b[43mretry\u001b[49m\u001b[43m=\u001b[49m\u001b[43mretry_policy\u001b[49m\u001b[43m,\u001b[49m\n\u001b[32m    169\u001b[39m \u001b[43m                \u001b[49m\u001b[43mfutures\u001b[49m\u001b[43m=\u001b[49m\u001b[43mweakref\u001b[49m\u001b[43m.\u001b[49m\u001b[43mref\u001b[49m\u001b[43m(\u001b[49m\u001b[43mfutures\u001b[49m\u001b[43m)\u001b[49m\u001b[43m,\u001b[49m\n\u001b[32m    170\u001b[39m \u001b[43m                \u001b[49m\u001b[43mschedule_task\u001b[49m\u001b[43m=\u001b[49m\u001b[43mschedule_task\u001b[49m\u001b[43m,\u001b[49m\n\u001b[32m    171\u001b[39m \u001b[43m                \u001b[49m\u001b[43msubmit\u001b[49m\u001b[43m=\u001b[49m\u001b[38;5;28;43mself\u001b[39;49m\u001b[43m.\u001b[49m\u001b[43msubmit\u001b[49m\u001b[43m,\u001b[49m\n\u001b[32m    172\u001b[39m \u001b[43m            \u001b[49m\u001b[43m)\u001b[49m\u001b[43m,\u001b[49m\n\u001b[32m    173\u001b[39m \u001b[43m        \u001b[49m\u001b[43m}\u001b[49m\u001b[43m,\u001b[49m\n\u001b[32m    174\u001b[39m \u001b[43m    \u001b[49m\u001b[43m)\u001b[49m\n\u001b[32m    175\u001b[39m     \u001b[38;5;28mself\u001b[39m.commit(t, \u001b[38;5;28;01mNone\u001b[39;00m)\n\u001b[32m    176\u001b[39m \u001b[38;5;28;01mexcept\u001b[39;00m \u001b[38;5;167;01mException\u001b[39;00m \u001b[38;5;28;01mas\u001b[39;00m exc:\n",
      "\u001b[36mFile \u001b[39m\u001b[32mc:\\Users\\maxdb\\Desktop\\LangGraph_Python\\langgraph_05_jupitern\\.venv\\Lib\\site-packages\\langgraph\\pregel\\retry.py:40\u001b[39m, in \u001b[36mrun_with_retry\u001b[39m\u001b[34m(task, retry_policy, configurable)\u001b[39m\n\u001b[32m     38\u001b[39m     task.writes.clear()\n\u001b[32m     39\u001b[39m     \u001b[38;5;66;03m# run the task\u001b[39;00m\n\u001b[32m---> \u001b[39m\u001b[32m40\u001b[39m     \u001b[38;5;28;01mreturn\u001b[39;00m \u001b[43mtask\u001b[49m\u001b[43m.\u001b[49m\u001b[43mproc\u001b[49m\u001b[43m.\u001b[49m\u001b[43minvoke\u001b[49m\u001b[43m(\u001b[49m\u001b[43mtask\u001b[49m\u001b[43m.\u001b[49m\u001b[43minput\u001b[49m\u001b[43m,\u001b[49m\u001b[43m \u001b[49m\u001b[43mconfig\u001b[49m\u001b[43m)\u001b[49m\n\u001b[32m     41\u001b[39m \u001b[38;5;28;01mexcept\u001b[39;00m ParentCommand \u001b[38;5;28;01mas\u001b[39;00m exc:\n\u001b[32m     42\u001b[39m     ns: \u001b[38;5;28mstr\u001b[39m = config[CONF][CONFIG_KEY_CHECKPOINT_NS]\n",
      "\u001b[36mFile \u001b[39m\u001b[32mc:\\Users\\maxdb\\Desktop\\LangGraph_Python\\langgraph_05_jupitern\\.venv\\Lib\\site-packages\\langgraph\\utils\\runnable.py:623\u001b[39m, in \u001b[36mRunnableSeq.invoke\u001b[39m\u001b[34m(self, input, config, **kwargs)\u001b[39m\n\u001b[32m    621\u001b[39m     \u001b[38;5;66;03m# run in context\u001b[39;00m\n\u001b[32m    622\u001b[39m     \u001b[38;5;28;01mwith\u001b[39;00m set_config_context(config, run) \u001b[38;5;28;01mas\u001b[39;00m context:\n\u001b[32m--> \u001b[39m\u001b[32m623\u001b[39m         \u001b[38;5;28minput\u001b[39m = \u001b[43mcontext\u001b[49m\u001b[43m.\u001b[49m\u001b[43mrun\u001b[49m\u001b[43m(\u001b[49m\u001b[43mstep\u001b[49m\u001b[43m.\u001b[49m\u001b[43minvoke\u001b[49m\u001b[43m,\u001b[49m\u001b[43m \u001b[49m\u001b[38;5;28;43minput\u001b[39;49m\u001b[43m,\u001b[49m\u001b[43m \u001b[49m\u001b[43mconfig\u001b[49m\u001b[43m,\u001b[49m\u001b[43m \u001b[49m\u001b[43m*\u001b[49m\u001b[43m*\u001b[49m\u001b[43mkwargs\u001b[49m\u001b[43m)\u001b[49m\n\u001b[32m    624\u001b[39m \u001b[38;5;28;01melse\u001b[39;00m:\n\u001b[32m    625\u001b[39m     \u001b[38;5;28minput\u001b[39m = step.invoke(\u001b[38;5;28minput\u001b[39m, config)\n",
      "\u001b[36mFile \u001b[39m\u001b[32mc:\\Users\\maxdb\\Desktop\\LangGraph_Python\\langgraph_05_jupitern\\.venv\\Lib\\site-packages\\langgraph\\utils\\runnable.py:377\u001b[39m, in \u001b[36mRunnableCallable.invoke\u001b[39m\u001b[34m(self, input, config, **kwargs)\u001b[39m\n\u001b[32m    375\u001b[39m         run_manager.on_chain_end(ret)\n\u001b[32m    376\u001b[39m \u001b[38;5;28;01melse\u001b[39;00m:\n\u001b[32m--> \u001b[39m\u001b[32m377\u001b[39m     ret = \u001b[38;5;28;43mself\u001b[39;49m\u001b[43m.\u001b[49m\u001b[43mfunc\u001b[49m\u001b[43m(\u001b[49m\u001b[43m*\u001b[49m\u001b[43margs\u001b[49m\u001b[43m,\u001b[49m\u001b[43m \u001b[49m\u001b[43m*\u001b[49m\u001b[43m*\u001b[49m\u001b[43mkwargs\u001b[49m\u001b[43m)\u001b[49m\n\u001b[32m    378\u001b[39m \u001b[38;5;28;01mif\u001b[39;00m \u001b[38;5;28mself\u001b[39m.recurse \u001b[38;5;129;01mand\u001b[39;00m \u001b[38;5;28misinstance\u001b[39m(ret, Runnable):\n\u001b[32m    379\u001b[39m     \u001b[38;5;28;01mreturn\u001b[39;00m ret.invoke(\u001b[38;5;28minput\u001b[39m, config)\n",
      "\u001b[36mCell\u001b[39m\u001b[36m \u001b[39m\u001b[32mIn[64]\u001b[39m\u001b[32m, line 10\u001b[39m, in \u001b[36msearch_agent1\u001b[39m\u001b[34m(state)\u001b[39m\n\u001b[32m      8\u001b[39m \u001b[38;5;28;01mdef\u001b[39;00m\u001b[38;5;250m \u001b[39m\u001b[34msearch_agent1\u001b[39m(state: QueryState) -> Dict:\n\u001b[32m      9\u001b[39m     \u001b[38;5;66;03m# Transformation from parent schema to subgraph schema\u001b[39;00m\n\u001b[32m---> \u001b[39m\u001b[32m10\u001b[39m     subgraph_input = {\u001b[33m\"\u001b[39m\u001b[33mmessages\u001b[39m\u001b[33m\"\u001b[39m: [\u001b[43mHumanMessage\u001b[49m\u001b[43m(\u001b[49m\u001b[43mcontent\u001b[49m\u001b[43m=\u001b[49m\u001b[43mstate\u001b[49m\u001b[43m[\u001b[49m\u001b[33;43m\"\u001b[39;49m\u001b[33;43mquery\u001b[39;49m\u001b[33;43m\"\u001b[39;49m\u001b[43m]\u001b[49m\u001b[43m)\u001b[49m] }\n\u001b[32m     12\u001b[39m     subgraph_result = child_app.invoke(subgraph_input)\n\u001b[32m     14\u001b[39m     message = subgraph_result[\u001b[33m\"\u001b[39m\u001b[33mmessages\u001b[39m\u001b[33m\"\u001b[39m][-\u001b[32m1\u001b[39m]\n",
      "\u001b[36mFile \u001b[39m\u001b[32mc:\\Users\\maxdb\\Desktop\\LangGraph_Python\\langgraph_05_jupitern\\.venv\\Lib\\site-packages\\langchain_core\\messages\\human.py:52\u001b[39m, in \u001b[36mHumanMessage.__init__\u001b[39m\u001b[34m(self, content, **kwargs)\u001b[39m\n\u001b[32m     43\u001b[39m \u001b[38;5;28;01mdef\u001b[39;00m\u001b[38;5;250m \u001b[39m\u001b[34m__init__\u001b[39m(\n\u001b[32m     44\u001b[39m     \u001b[38;5;28mself\u001b[39m, content: Union[\u001b[38;5;28mstr\u001b[39m, \u001b[38;5;28mlist\u001b[39m[Union[\u001b[38;5;28mstr\u001b[39m, \u001b[38;5;28mdict\u001b[39m]]], **kwargs: Any\n\u001b[32m     45\u001b[39m ) -> \u001b[38;5;28;01mNone\u001b[39;00m:\n\u001b[32m     46\u001b[39m \u001b[38;5;250m    \u001b[39m\u001b[33;03m\"\"\"Pass in content as positional arg.\u001b[39;00m\n\u001b[32m     47\u001b[39m \n\u001b[32m     48\u001b[39m \u001b[33;03m    Args:\u001b[39;00m\n\u001b[32m     49\u001b[39m \u001b[33;03m        content: The string contents of the message.\u001b[39;00m\n\u001b[32m     50\u001b[39m \u001b[33;03m        kwargs: Additional fields to pass to the message.\u001b[39;00m\n\u001b[32m     51\u001b[39m \u001b[33;03m    \"\"\"\u001b[39;00m\n\u001b[32m---> \u001b[39m\u001b[32m52\u001b[39m     \u001b[38;5;28;43msuper\u001b[39;49m\u001b[43m(\u001b[49m\u001b[43m)\u001b[49m\u001b[43m.\u001b[49m\u001b[34;43m__init__\u001b[39;49m\u001b[43m(\u001b[49m\u001b[43mcontent\u001b[49m\u001b[43m=\u001b[49m\u001b[43mcontent\u001b[49m\u001b[43m,\u001b[49m\u001b[43m \u001b[49m\u001b[43m*\u001b[49m\u001b[43m*\u001b[49m\u001b[43mkwargs\u001b[49m\u001b[43m)\u001b[49m\n",
      "\u001b[36mFile \u001b[39m\u001b[32mc:\\Users\\maxdb\\Desktop\\LangGraph_Python\\langgraph_05_jupitern\\.venv\\Lib\\site-packages\\langchain_core\\messages\\base.py:71\u001b[39m, in \u001b[36mBaseMessage.__init__\u001b[39m\u001b[34m(self, content, **kwargs)\u001b[39m\n\u001b[32m     63\u001b[39m \u001b[38;5;28;01mdef\u001b[39;00m\u001b[38;5;250m \u001b[39m\u001b[34m__init__\u001b[39m(\n\u001b[32m     64\u001b[39m     \u001b[38;5;28mself\u001b[39m, content: Union[\u001b[38;5;28mstr\u001b[39m, \u001b[38;5;28mlist\u001b[39m[Union[\u001b[38;5;28mstr\u001b[39m, \u001b[38;5;28mdict\u001b[39m]]], **kwargs: Any\n\u001b[32m     65\u001b[39m ) -> \u001b[38;5;28;01mNone\u001b[39;00m:\n\u001b[32m     66\u001b[39m \u001b[38;5;250m    \u001b[39m\u001b[33;03m\"\"\"Pass in content as positional arg.\u001b[39;00m\n\u001b[32m     67\u001b[39m \n\u001b[32m     68\u001b[39m \u001b[33;03m    Args:\u001b[39;00m\n\u001b[32m     69\u001b[39m \u001b[33;03m        content: The string contents of the message.\u001b[39;00m\n\u001b[32m     70\u001b[39m \u001b[33;03m    \"\"\"\u001b[39;00m\n\u001b[32m---> \u001b[39m\u001b[32m71\u001b[39m     \u001b[38;5;28;43msuper\u001b[39;49m\u001b[43m(\u001b[49m\u001b[43m)\u001b[49m\u001b[43m.\u001b[49m\u001b[34;43m__init__\u001b[39;49m\u001b[43m(\u001b[49m\u001b[43mcontent\u001b[49m\u001b[43m=\u001b[49m\u001b[43mcontent\u001b[49m\u001b[43m,\u001b[49m\u001b[43m \u001b[49m\u001b[43m*\u001b[49m\u001b[43m*\u001b[49m\u001b[43mkwargs\u001b[49m\u001b[43m)\u001b[49m\n",
      "\u001b[36mFile \u001b[39m\u001b[32mc:\\Users\\maxdb\\Desktop\\LangGraph_Python\\langgraph_05_jupitern\\.venv\\Lib\\site-packages\\langchain_core\\load\\serializable.py:130\u001b[39m, in \u001b[36mSerializable.__init__\u001b[39m\u001b[34m(self, *args, **kwargs)\u001b[39m\n\u001b[32m    128\u001b[39m \u001b[38;5;28;01mdef\u001b[39;00m\u001b[38;5;250m \u001b[39m\u001b[34m__init__\u001b[39m(\u001b[38;5;28mself\u001b[39m, *args: Any, **kwargs: Any) -> \u001b[38;5;28;01mNone\u001b[39;00m:\n\u001b[32m    129\u001b[39m \u001b[38;5;250m    \u001b[39m\u001b[33;03m\"\"\"\"\"\"\u001b[39;00m  \u001b[38;5;66;03m# noqa: D419\u001b[39;00m\n\u001b[32m--> \u001b[39m\u001b[32m130\u001b[39m     \u001b[38;5;28;43msuper\u001b[39;49m\u001b[43m(\u001b[49m\u001b[43m)\u001b[49m\u001b[43m.\u001b[49m\u001b[34;43m__init__\u001b[39;49m\u001b[43m(\u001b[49m\u001b[43m*\u001b[49m\u001b[43margs\u001b[49m\u001b[43m,\u001b[49m\u001b[43m \u001b[49m\u001b[43m*\u001b[49m\u001b[43m*\u001b[49m\u001b[43mkwargs\u001b[49m\u001b[43m)\u001b[49m\n",
      "\u001b[36mFile \u001b[39m\u001b[32mc:\\Users\\maxdb\\Desktop\\LangGraph_Python\\langgraph_05_jupitern\\.venv\\Lib\\site-packages\\pydantic\\main.py:253\u001b[39m, in \u001b[36mBaseModel.__init__\u001b[39m\u001b[34m(self, **data)\u001b[39m\n\u001b[32m    251\u001b[39m \u001b[38;5;66;03m# `__tracebackhide__` tells pytest and some other tools to omit this function from tracebacks\u001b[39;00m\n\u001b[32m    252\u001b[39m __tracebackhide__ = \u001b[38;5;28;01mTrue\u001b[39;00m\n\u001b[32m--> \u001b[39m\u001b[32m253\u001b[39m validated_self = \u001b[38;5;28;43mself\u001b[39;49m\u001b[43m.\u001b[49m\u001b[43m__pydantic_validator__\u001b[49m\u001b[43m.\u001b[49m\u001b[43mvalidate_python\u001b[49m\u001b[43m(\u001b[49m\u001b[43mdata\u001b[49m\u001b[43m,\u001b[49m\u001b[43m \u001b[49m\u001b[43mself_instance\u001b[49m\u001b[43m=\u001b[49m\u001b[38;5;28;43mself\u001b[39;49m\u001b[43m)\u001b[49m\n\u001b[32m    254\u001b[39m \u001b[38;5;28;01mif\u001b[39;00m \u001b[38;5;28mself\u001b[39m \u001b[38;5;129;01mis\u001b[39;00m \u001b[38;5;129;01mnot\u001b[39;00m validated_self:\n\u001b[32m    255\u001b[39m     warnings.warn(\n\u001b[32m    256\u001b[39m         \u001b[33m'\u001b[39m\u001b[33mA custom validator is returning a value other than `self`.\u001b[39m\u001b[38;5;130;01m\\n\u001b[39;00m\u001b[33m'\u001b[39m\n\u001b[32m    257\u001b[39m         \u001b[33m\"\u001b[39m\u001b[33mReturning anything other than `self` from a top level model validator isn\u001b[39m\u001b[33m'\u001b[39m\u001b[33mt supported when validating via `__init__`.\u001b[39m\u001b[38;5;130;01m\\n\u001b[39;00m\u001b[33m\"\u001b[39m\n\u001b[32m    258\u001b[39m         \u001b[33m'\u001b[39m\u001b[33mSee the `model_validator` docs (https://docs.pydantic.dev/latest/concepts/validators/#model-validators) for more details.\u001b[39m\u001b[33m'\u001b[39m,\n\u001b[32m    259\u001b[39m         stacklevel=\u001b[32m2\u001b[39m,\n\u001b[32m    260\u001b[39m     )\n",
      "\u001b[31mValidationError\u001b[39m: 3 validation errors for HumanMessage\ncontent.str\n  Input should be a valid string [type=string_type, input_value=[HumanMessage(content=\"Ho..., response_metadata={})], input_type=list]\n    For further information visit https://errors.pydantic.dev/2.11/v/string_type\ncontent.list[union[str,dict[any,any]]].0.str\n  Input should be a valid string [type=string_type, input_value=HumanMessage(content=\"How...}, response_metadata={}), input_type=HumanMessage]\n    For further information visit https://errors.pydantic.dev/2.11/v/string_type\ncontent.list[union[str,dict[any,any]]].0.dict[any,any]\n  Input should be a valid dictionary [type=dict_type, input_value=HumanMessage(content=\"How...}, response_metadata={}), input_type=HumanMessage]\n    For further information visit https://errors.pydantic.dev/2.11/v/dict_type",
      "During task with name 'search_agent1' and id '38548305-f908-9905-ad0e-9b682ed09b44'"
     ]
    }
   ],
   "source": [
    "parent_graph = StateGraph(QueryState)\n",
    "\n",
    "parent_graph.add_node(\"search_agent1\", search_agent1)\n",
    "\n",
    "parent_graph.add_edge(START, \"search_agent1\")\n",
    "parent_graph.add_edge(\"search_agent1\", END)\n",
    "\n",
    "parent_app = parent_graph.compile()\n",
    "parent_app.invoke(input={\"query\": [HumanMessage(content=\"How is today's weather in Vaasa, Finland \")]})"
   ]
  }
 ],
 "metadata": {
  "kernelspec": {
   "display_name": ".venv",
   "language": "python",
   "name": "python3"
  },
  "language_info": {
   "codemirror_mode": {
    "name": "ipython",
    "version": 3
   },
   "file_extension": ".py",
   "mimetype": "text/x-python",
   "name": "python",
   "nbconvert_exporter": "python",
   "pygments_lexer": "ipython3",
   "version": "3.11.9"
  }
 },
 "nbformat": 4,
 "nbformat_minor": 5
}
