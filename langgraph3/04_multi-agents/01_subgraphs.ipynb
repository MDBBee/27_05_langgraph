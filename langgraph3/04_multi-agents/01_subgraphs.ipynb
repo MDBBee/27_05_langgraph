{
 "cells": [
  {
   "cell_type": "markdown",
   "id": "7447b55d",
   "metadata": {},
   "source": [
    "## Subgraphs\n",
    "- Shared schema keys\n",
    "- "
   ]
  },
  {
   "cell_type": "code",
   "execution_count": 3,
   "id": "c72481c5",
   "metadata": {},
   "outputs": [],
   "source": [
    "from typing import Annotated, TypedDict\n",
    "from langgraph.graph import StateGraph, END, add_messages, START\n",
    "from langchain_google_genai import ChatGoogleGenerativeAI\n",
    "from langchain_core.messages import AIMessage, HumanMessage\n",
    "from dotenv import load_dotenv\n",
    "from langchain_community.tools.tavily_search import TavilySearchResults\n",
    "from langgraph.prebuilt import ToolNode"
   ]
  },
  {
   "cell_type": "code",
   "execution_count": null,
   "id": "153c3d26",
   "metadata": {},
   "outputs": [],
   "source": [
    "load_dotenv()\n",
    "\n",
    "class SubState(TypedDict):\n",
    "    messages: Annotated[list, add_messages]\n",
    "# Substate as child state\n",
    "search_tool = TavilySearchResults(max_results=2)\n",
    "tools = [search_tool]\n",
    "\n",
    "llm = ChatGoogleGenerativeAI(model=\"gemini-2.0-flash\")\n",
    "llm_with_tools = llm.bind_tools(tools)"
   ]
  },
  {
   "cell_type": "code",
   "execution_count": 5,
   "id": "41b9a56e",
   "metadata": {},
   "outputs": [],
   "source": [
    "def agent(state: SubState):\n",
    "    return {\n",
    "        \"messages\": [llm_with_tools.invoke(state[\"messages\"])]\n",
    "    }\n",
    "\n",
    "def router(state: SubState):\n",
    "    prev_message = state[\"messages\"][-1]\n",
    "\n",
    "    if(hasattr(prev_message,\"tool_calls\") and len(prev_message.tool_calls) > 0):\n",
    "        return \"tool\"\n",
    "    else:\n",
    "        return \"end\""
   ]
  },
  {
   "cell_type": "code",
   "execution_count": 15,
   "id": "a1b51e01",
   "metadata": {},
   "outputs": [],
   "source": [
    "tool_node = ToolNode(tools)\n",
    "\n",
    "subgraph = StateGraph(SubState)\n",
    "\n",
    "subgraph.add_node(\"agent\", agent)\n",
    "subgraph.add_node(\"tool_node\", tool_node)\n",
    "\n",
    "subgraph.add_edge(START, \"agent\")\n",
    "subgraph.add_conditional_edges(\"agent\", router, {\"tool\":\"tool_node\", \"end\": END})\n",
    "subgraph.add_edge(\"tool_node\", \"agent\")\n",
    "\n",
    "child_app = subgraph.compile()"
   ]
  },
  {
   "cell_type": "code",
   "execution_count": 16,
   "id": "b52033ce",
   "metadata": {},
   "outputs": [
    {
     "data": {
      "text/plain": [
       "{'messages': [HumanMessage(content='How is the weather in Vaasa, Fimland today', additional_kwargs={}, response_metadata={}, id='56ee18f7-417e-4888-9dc5-b8c0568a1968'),\n",
       "  AIMessage(content='', additional_kwargs={'function_call': {'name': 'tavily_search_results_json', 'arguments': '{\"query\": \"weather in Vaasa, Finland today\"}'}}, response_metadata={'prompt_feedback': {'block_reason': 0, 'safety_ratings': []}, 'finish_reason': 'STOP', 'model_name': 'gemini-2.0-flash', 'safety_ratings': []}, id='run--c19012ae-a6a5-4839-99d7-f2a617ff4ce8-0', tool_calls=[{'name': 'tavily_search_results_json', 'args': {'query': 'weather in Vaasa, Finland today'}, 'id': 'bad4a266-a066-452c-aba4-4315f5a88b59', 'type': 'tool_call'}], usage_metadata={'input_tokens': 60, 'output_tokens': 16, 'total_tokens': 76, 'input_token_details': {'cache_read': 0}}),\n",
       "  ToolMessage(content='[{\"title\": \"Vaasa weather in June 2025 - Weather25.com\", \"url\": \"https://www.weather25.com/europe/finland/western-finland/vaasa?page=month&month=June\", \"content\": \"| [1 Partly cloudy 8° /7°](https://www.weather25.com/europe/finland/western-finland/vaasa?page=today \\\\\"Weather in 1 june 2025\\\\\") | [2 Light drizzle 9° /7°](https://www.weather25.com/europe/finland/western-finland/vaasa?page=tomorrow \\\\\"Weather in 2 june 2025\\\\\") | [3 Sunny 9° /8°](https://www.weather25.com/europe/finland/western-finland/vaasa?page=day#date=2025-06-03 \\\\\"Weather in 3 june 2025\\\\\") | [4 Light drizzle 9° [...] | Month | Temperatures | Rainy Days | Dry Days | Snowy Days | Rainfall | Weather | More details |\\\\n| --- | --- | --- | --- | --- | --- | --- | --- |\\\\n| January | **-3°** / -6° | 5 | 7 | 20 | 67 mm | Awful | [Vaasa in January](https://www.weather25.com/europe/finland/western-finland/vaasa?page=month&month=January) |\\\\n| February | **-3°** / -7° | 5 | 5 | 19 | 62 mm | Awful | [Vaasa in February](https://www.weather25.com/europe/finland/western-finland/vaasa?page=month&month=February) | [...] | March | **0°** / -5° | 6 | 8 | 17 | 61 mm | Awful | [Vaasa in March](https://www.weather25.com/europe/finland/western-finland/vaasa?page=month&month=March) |\\\\n| April | **4°** / 0° | 6 | 16 | 9 | 63 mm | Awful | [Vaasa in April](https://www.weather25.com/europe/finland/western-finland/vaasa?page=month&month=April) |\\\\n| May | **10°** / 5° | 7 | 22 | 2 | 84 mm | Awful | [Vaasa in May](https://www.weather25.com/europe/finland/western-finland/vaasa?page=month&month=May) |\", \"score\": 0.82795376}, {\"title\": \"10-day weather forecast for Vaasa, Ostrobothnia, Finland\", \"url\": \"https://weather.com/en-IN/weather/tenday/l/0d8ba6cb72e4af1a6c0c0da4b11b258088d1d09fbfcfc8e504a464e342e4c924\", \"content\": \"## recents\\\\n\\\\nMenu\\\\n\\\\n## Forecast\\\\n\\\\n## Maps\\\\n\\\\n## Account\\\\n\\\\n## Privacy\\\\n\\\\n### Special Forecasts\\\\n\\\\n# **10-Day Weather**-Vaasa, Ostrobothnia, Finland\\\\n\\\\n## Tonight\\\\n\\\\n## Sun 01 | Night\\\\n\\\\nLight rain developing late. Low 9°C. Winds SSE at 15 to 30 km/h. Chance of rain 70%.\\\\n\\\\n## Mon 02\\\\n\\\\n## Mon 02 | Day\\\\n\\\\nCloudy, with morning rain. High 13°C. Winds S at 25 to 40 km/h. Chance of rain 90%. Rainfall around 6 mm. Locally heavier rainfall possible.\\\\n\\\\n## Mon 02 | Night\\\\n\\\\nGenerally clear. Low 8°C. Winds WSW at 25 to 40 km/h. [...] ## Fri 06 | Day\\\\n\\\\nPartly cloudy. High 14°C. Winds SSW at 25 to 40 km/h.\\\\n\\\\n## Fri 06 | Night\\\\n\\\\nShowers late at night. Low 9°C. Winds SSW at 15 to 30 km/h. Chance of rain 40%.\\\\n\\\\n## Sat 07\\\\n\\\\n## Sat 07 | Day\\\\n\\\\nShowers. High 13°C. Winds SW at 15 to 30 km/h. Chance of rain 50%.\\\\n\\\\n## Sat 07 | Night\\\\n\\\\nPartly cloudy. Low 8°C. Winds SW at 15 to 30 km/h.\\\\n\\\\n## Sun 08\\\\n\\\\n## Sun 08 | Day\\\\n\\\\nMorning showers. High 13°C. Winds WSW at 15 to 30 km/h. Chance of rain 40%.\\\\n\\\\n## Sun 08 | Night [...] ## Tue 03\\\\n\\\\n## Tue 03 | Day\\\\n\\\\nPartly cloudy. High 13°C. Winds W at 15 to 25 km/h.\\\\n\\\\n## Tue 03 | Night\\\\n\\\\nGenerally clear. Low 7°C. Winds SSW at 15 to 30 km/h.\\\\n\\\\n## Wed 04\\\\n\\\\n## Wed 04 | Day\\\\n\\\\nMostly cloudy. High 15°C. Winds SSW at 25 to 40 km/h.\\\\n\\\\n## Wed 04 | Night\\\\n\\\\nShowers. Low 9°C. Winds S at 25 to 40 km/h. Chance of rain 30%.\\\\n\\\\n## Thu 05\\\\n\\\\n## Thu 05 | Day\\\\n\\\\nPartly cloudy. High 14°C. Winds SSW at 25 to 40 km/h.\\\\n\\\\n## Thu 05 | Night\\\\n\\\\nPartly cloudy. Low 9°C. Winds SSW at 15 to 30 km/h.\\\\n\\\\n## Fri 06\", \"score\": 0.73505294}]', name='tavily_search_results_json', id='cd258c13-e40d-4650-a63c-2ad1652fb1ff', tool_call_id='bad4a266-a066-452c-aba4-4315f5a88b59', artifact={'query': 'weather in Vaasa, Finland today', 'follow_up_questions': None, 'answer': None, 'images': [], 'results': [{'url': 'https://www.weather25.com/europe/finland/western-finland/vaasa?page=month&month=June', 'title': 'Vaasa weather in June 2025 - Weather25.com', 'content': '| [1 Partly cloudy 8° /7°](https://www.weather25.com/europe/finland/western-finland/vaasa?page=today \"Weather in 1 june 2025\") | [2 Light drizzle 9° /7°](https://www.weather25.com/europe/finland/western-finland/vaasa?page=tomorrow \"Weather in 2 june 2025\") | [3 Sunny 9° /8°](https://www.weather25.com/europe/finland/western-finland/vaasa?page=day#date=2025-06-03 \"Weather in 3 june 2025\") | [4 Light drizzle 9° [...] | Month | Temperatures | Rainy Days | Dry Days | Snowy Days | Rainfall | Weather | More details |\\n| --- | --- | --- | --- | --- | --- | --- | --- |\\n| January | **-3°** / -6° | 5 | 7 | 20 | 67 mm | Awful | [Vaasa in January](https://www.weather25.com/europe/finland/western-finland/vaasa?page=month&month=January) |\\n| February | **-3°** / -7° | 5 | 5 | 19 | 62 mm | Awful | [Vaasa in February](https://www.weather25.com/europe/finland/western-finland/vaasa?page=month&month=February) | [...] | March | **0°** / -5° | 6 | 8 | 17 | 61 mm | Awful | [Vaasa in March](https://www.weather25.com/europe/finland/western-finland/vaasa?page=month&month=March) |\\n| April | **4°** / 0° | 6 | 16 | 9 | 63 mm | Awful | [Vaasa in April](https://www.weather25.com/europe/finland/western-finland/vaasa?page=month&month=April) |\\n| May | **10°** / 5° | 7 | 22 | 2 | 84 mm | Awful | [Vaasa in May](https://www.weather25.com/europe/finland/western-finland/vaasa?page=month&month=May) |', 'score': 0.82795376, 'raw_content': None}, {'url': 'https://weather.com/en-IN/weather/tenday/l/0d8ba6cb72e4af1a6c0c0da4b11b258088d1d09fbfcfc8e504a464e342e4c924', 'title': '10-day weather forecast for Vaasa, Ostrobothnia, Finland', 'content': '## recents\\n\\nMenu\\n\\n## Forecast\\n\\n## Maps\\n\\n## Account\\n\\n## Privacy\\n\\n### Special Forecasts\\n\\n# **10-Day Weather**-Vaasa, Ostrobothnia, Finland\\n\\n## Tonight\\n\\n## Sun 01 | Night\\n\\nLight rain developing late. Low 9°C. Winds SSE at 15 to 30 km/h. Chance of rain 70%.\\n\\n## Mon 02\\n\\n## Mon 02 | Day\\n\\nCloudy, with morning rain. High 13°C. Winds S at 25 to 40 km/h. Chance of rain 90%. Rainfall around 6 mm. Locally heavier rainfall possible.\\n\\n## Mon 02 | Night\\n\\nGenerally clear. Low 8°C. Winds WSW at 25 to 40 km/h. [...] ## Fri 06 | Day\\n\\nPartly cloudy. High 14°C. Winds SSW at 25 to 40 km/h.\\n\\n## Fri 06 | Night\\n\\nShowers late at night. Low 9°C. Winds SSW at 15 to 30 km/h. Chance of rain 40%.\\n\\n## Sat 07\\n\\n## Sat 07 | Day\\n\\nShowers. High 13°C. Winds SW at 15 to 30 km/h. Chance of rain 50%.\\n\\n## Sat 07 | Night\\n\\nPartly cloudy. Low 8°C. Winds SW at 15 to 30 km/h.\\n\\n## Sun 08\\n\\n## Sun 08 | Day\\n\\nMorning showers. High 13°C. Winds WSW at 15 to 30 km/h. Chance of rain 40%.\\n\\n## Sun 08 | Night [...] ## Tue 03\\n\\n## Tue 03 | Day\\n\\nPartly cloudy. High 13°C. Winds W at 15 to 25 km/h.\\n\\n## Tue 03 | Night\\n\\nGenerally clear. Low 7°C. Winds SSW at 15 to 30 km/h.\\n\\n## Wed 04\\n\\n## Wed 04 | Day\\n\\nMostly cloudy. High 15°C. Winds SSW at 25 to 40 km/h.\\n\\n## Wed 04 | Night\\n\\nShowers. Low 9°C. Winds S at 25 to 40 km/h. Chance of rain 30%.\\n\\n## Thu 05\\n\\n## Thu 05 | Day\\n\\nPartly cloudy. High 14°C. Winds SSW at 25 to 40 km/h.\\n\\n## Thu 05 | Night\\n\\nPartly cloudy. Low 9°C. Winds SSW at 15 to 30 km/h.\\n\\n## Fri 06', 'score': 0.73505294, 'raw_content': None}], 'response_time': 6.72}),\n",
       "  AIMessage(content='The weather in Vaasa, Finland tonight will be light rain developing late with a low of 9°C. The chance of rain is 70%.', additional_kwargs={}, response_metadata={'prompt_feedback': {'block_reason': 0, 'safety_ratings': []}, 'finish_reason': 'STOP', 'model_name': 'gemini-2.0-flash', 'safety_ratings': []}, id='run--a9512663-450f-483a-9081-17b4dcfd3ab1-0', usage_metadata={'input_tokens': 1405, 'output_tokens': 32, 'total_tokens': 1437, 'input_token_details': {'cache_read': 0}})]}"
      ]
     },
     "execution_count": 16,
     "metadata": {},
     "output_type": "execute_result"
    }
   ],
   "source": [
    "child_app.invoke({\"messages\": [HumanMessage(content=\"How is the weather in Vaasa, Fimland today\")]})"
   ]
  },
  {
   "cell_type": "markdown",
   "id": "9a18ff4f",
   "metadata": {},
   "source": [
    "### 1) Multi-agent with parent and child graph\n",
    "- Shared schema keys"
   ]
  },
  {
   "cell_type": "code",
   "execution_count": 29,
   "id": "116caa06",
   "metadata": {},
   "outputs": [
    {
     "data": {
      "text/plain": [
       "{'messages': [HumanMessage(content='How is the weather in Vaasa, Finland today', additional_kwargs={}, response_metadata={}, id='4bce055b-e551-4376-8c1d-36f8f30ba1c2'),\n",
       "  AIMessage(content='', additional_kwargs={'function_call': {'name': 'tavily_search_results_json', 'arguments': '{\"query\": \"weather in Vaasa, Finland today\"}'}}, response_metadata={'prompt_feedback': {'block_reason': 0, 'safety_ratings': []}, 'finish_reason': 'STOP', 'model_name': 'gemini-2.0-flash', 'safety_ratings': []}, id='run--640bdfa7-b070-49a5-ab2a-c8659d9ea938-0', tool_calls=[{'name': 'tavily_search_results_json', 'args': {'query': 'weather in Vaasa, Finland today'}, 'id': '8f5bb93a-d01c-42f6-ba6d-5b83a32e5c10', 'type': 'tool_call'}], usage_metadata={'input_tokens': 59, 'output_tokens': 16, 'total_tokens': 75, 'input_token_details': {'cache_read': 0}}),\n",
       "  ToolMessage(content='[{\"title\": \"Vaasa January 2025 Historical Weather Data (Finland)\", \"url\": \"https://weatherspark.com/h/m/87765/2025/1/Historical-Weather-in-January-2025-in-Vaasa-Finland\", \"content\": \"Observed Weather in January 2025 in Vaasa ; Sun, Jan 12, Mist, Patches of Fog ; Mon, Jan 13, Light Snow, Showers of Light Snow, Light Ice Pellets, Light Freezing\", \"score\": 0.88372874}, {\"title\": \"Vaasa weather in June 2025 - Weather25.com\", \"url\": \"https://www.weather25.com/europe/finland/western-finland/vaasa?page=month&month=June\", \"content\": \"| [1 Partly cloudy 8° /7°](https://www.weather25.com/europe/finland/western-finland/vaasa?page=today \\\\\"Weather in 1 june 2025\\\\\") | [2 Light drizzle 9° /7°](https://www.weather25.com/europe/finland/western-finland/vaasa?page=tomorrow \\\\\"Weather in 2 june 2025\\\\\") | [3 Sunny 9° /8°](https://www.weather25.com/europe/finland/western-finland/vaasa?page=day#date=2025-06-03 \\\\\"Weather in 3 june 2025\\\\\") | [4 Light drizzle 9° [...] | Month | Temperatures | Rainy Days | Dry Days | Snowy Days | Rainfall | Weather | More details |\\\\n| --- | --- | --- | --- | --- | --- | --- | --- |\\\\n| January | **-3°** / -6° | 5 | 7 | 20 | 67 mm | Awful | [Vaasa in January](https://www.weather25.com/europe/finland/western-finland/vaasa?page=month&month=January) |\\\\n| February | **-3°** / -7° | 5 | 5 | 19 | 62 mm | Awful | [Vaasa in February](https://www.weather25.com/europe/finland/western-finland/vaasa?page=month&month=February) | [...] | March | **0°** / -5° | 6 | 8 | 17 | 61 mm | Awful | [Vaasa in March](https://www.weather25.com/europe/finland/western-finland/vaasa?page=month&month=March) |\\\\n| April | **4°** / 0° | 6 | 16 | 9 | 63 mm | Awful | [Vaasa in April](https://www.weather25.com/europe/finland/western-finland/vaasa?page=month&month=April) |\\\\n| May | **10°** / 5° | 7 | 22 | 2 | 84 mm | Awful | [Vaasa in May](https://www.weather25.com/europe/finland/western-finland/vaasa?page=month&month=May) |\", \"score\": 0.82795376}]', name='tavily_search_results_json', id='ce225744-cb21-405c-9d1e-d175b9c2c4d4', tool_call_id='8f5bb93a-d01c-42f6-ba6d-5b83a32e5c10', artifact={'query': 'weather in Vaasa, Finland today', 'follow_up_questions': None, 'answer': None, 'images': [], 'results': [{'url': 'https://weatherspark.com/h/m/87765/2025/1/Historical-Weather-in-January-2025-in-Vaasa-Finland', 'title': 'Vaasa January 2025 Historical Weather Data (Finland)', 'content': 'Observed Weather in January 2025 in Vaasa ; Sun, Jan 12, Mist, Patches of Fog ; Mon, Jan 13, Light Snow, Showers of Light Snow, Light Ice Pellets, Light Freezing', 'score': 0.88372874, 'raw_content': None}, {'url': 'https://www.weather25.com/europe/finland/western-finland/vaasa?page=month&month=June', 'title': 'Vaasa weather in June 2025 - Weather25.com', 'content': '| [1 Partly cloudy 8° /7°](https://www.weather25.com/europe/finland/western-finland/vaasa?page=today \"Weather in 1 june 2025\") | [2 Light drizzle 9° /7°](https://www.weather25.com/europe/finland/western-finland/vaasa?page=tomorrow \"Weather in 2 june 2025\") | [3 Sunny 9° /8°](https://www.weather25.com/europe/finland/western-finland/vaasa?page=day#date=2025-06-03 \"Weather in 3 june 2025\") | [4 Light drizzle 9° [...] | Month | Temperatures | Rainy Days | Dry Days | Snowy Days | Rainfall | Weather | More details |\\n| --- | --- | --- | --- | --- | --- | --- | --- |\\n| January | **-3°** / -6° | 5 | 7 | 20 | 67 mm | Awful | [Vaasa in January](https://www.weather25.com/europe/finland/western-finland/vaasa?page=month&month=January) |\\n| February | **-3°** / -7° | 5 | 5 | 19 | 62 mm | Awful | [Vaasa in February](https://www.weather25.com/europe/finland/western-finland/vaasa?page=month&month=February) | [...] | March | **0°** / -5° | 6 | 8 | 17 | 61 mm | Awful | [Vaasa in March](https://www.weather25.com/europe/finland/western-finland/vaasa?page=month&month=March) |\\n| April | **4°** / 0° | 6 | 16 | 9 | 63 mm | Awful | [Vaasa in April](https://www.weather25.com/europe/finland/western-finland/vaasa?page=month&month=April) |\\n| May | **10°** / 5° | 7 | 22 | 2 | 84 mm | Awful | [Vaasa in May](https://www.weather25.com/europe/finland/western-finland/vaasa?page=month&month=May) |', 'score': 0.82795376, 'raw_content': None}], 'response_time': 6.02}),\n",
       "  AIMessage(content='I am sorry, I cannot provide you with the weather in Vaasa, Finland for today. The search results provide weather information for January and June 2025.', additional_kwargs={}, response_metadata={'prompt_feedback': {'block_reason': 0, 'safety_ratings': []}, 'finish_reason': 'STOP', 'model_name': 'gemini-2.0-flash', 'safety_ratings': []}, id='run--6eaf4dba-deb7-42dd-9355-e5bf1918164f-0', usage_metadata={'input_tokens': 804, 'output_tokens': 36, 'total_tokens': 840, 'input_token_details': {'cache_read': 0}})]}"
      ]
     },
     "execution_count": 29,
     "metadata": {},
     "output_type": "execute_result"
    }
   ],
   "source": [
    "from typing import List\n",
    "\n",
    "\n",
    "class ParentState(TypedDict):\n",
    "    messages: Annotated[List, add_messages]\n",
    "\n",
    "parent_graph = StateGraph(ParentState)\n",
    "\n",
    "# Adding compiled child_graph-child_app as a node to parent_graph\n",
    "parent_graph.add_node(\"search_agent\", child_app)\n",
    "\n",
    "parent_graph.add_edge(START, \"search_agent\")\n",
    "parent_graph.add_edge(\"search_agent\", END)\n",
    "\n",
    "parent_app = parent_graph.compile()\n",
    "\n",
    "outcome = parent_app.invoke({\"messages\": [HumanMessage(content=\"How is the weather in Vaasa, Finland today\")]})\n",
    "# outcome = parent_app.stream({\"messages\": [HumanMessage(content=\"How is the weather in Vaasa, Finland today\")]}, stream_mode=\"values\")\n",
    "outcome\n"
   ]
  },
  {
   "cell_type": "code",
   "execution_count": 31,
   "id": "12952e2f",
   "metadata": {},
   "outputs": [],
   "source": [
    "# for chunck in outcome:\n",
    "#     print(chunck[\"messages\"][-1].pretty_print())"
   ]
  }
 ],
 "metadata": {
  "kernelspec": {
   "display_name": ".venv",
   "language": "python",
   "name": "python3"
  },
  "language_info": {
   "codemirror_mode": {
    "name": "ipython",
    "version": 3
   },
   "file_extension": ".py",
   "mimetype": "text/x-python",
   "name": "python",
   "nbconvert_exporter": "python",
   "pygments_lexer": "ipython3",
   "version": "3.11.9"
  }
 },
 "nbformat": 4,
 "nbformat_minor": 5
}
