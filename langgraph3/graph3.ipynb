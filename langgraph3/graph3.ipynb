{
 "cells": [
  {
   "cell_type": "markdown",
   "id": "e3a67ee7",
   "metadata": {},
   "source": [
    "## Graph3: 🤖Bot with memory"
   ]
  },
  {
   "cell_type": "code",
   "execution_count": 6,
   "id": "f931b5ec",
   "metadata": {},
   "outputs": [],
   "source": [
    "from typing import TypedDict, Annotated, List\n",
    "from langgraph.graph import StateGraph, START, END, add_messages\n",
    "from dotenv import load_dotenv\n",
    "import os\n",
    "from langchain_google_genai import ChatGoogleGenerativeAI\n",
    "from langchain_core.messages import HumanMessage, AIMessage\n",
    "from tavily import TavilyClient\n",
    "from langchain_community.tools import TavilySearchResults\n",
    "from langgraph.prebuilt import ToolNode\n",
    "from langchain_groq import ChatGroq\n",
    "from langgraph.checkpoint.memory import MemorySaver"
   ]
  },
  {
   "cell_type": "code",
   "execution_count": 14,
   "id": "5e7b9d01",
   "metadata": {},
   "outputs": [],
   "source": [
    "load_dotenv()\n",
    "memory = MemorySaver()\n",
    "llm = ChatGoogleGenerativeAI(model=\"gemini-2.0-flash\")\n",
    "# llm = ChatGroq(model=\"llama-3.1-8b-instant\")\n",
    "\n",
    "class State(TypedDict):\n",
    "    messages: Annotated[list, add_messages]\n",
    "\n",
    "# tav_key = os.environ[\"TAVILY_API_KEY\"]\n",
    "\n",
    "\n",
    "search_tool = TavilySearchResults(max_results=2)\n",
    "tools = [search_tool]\n",
    "\n",
    "llm_with_tools = llm.bind_tools(tools=tools)"
   ]
  },
  {
   "cell_type": "code",
   "execution_count": 3,
   "id": "3235e0a3",
   "metadata": {},
   "outputs": [],
   "source": [
    "def chatbot(state:State):\n",
    "    return {\"messages\": [llm_with_tools.invoke(state[\"messages\"])]}\n",
    "\n",
    "def router(state:State):\n",
    "    last_message = state[\"messages\"][-1]\n",
    "\n",
    "    if hasattr(last_message, \"tool_calls\") and len(last_message.tool_calls) > 0:\n",
    "        return \"tool_call\"\n",
    "    else: \n",
    "        return \"end\""
   ]
  },
  {
   "cell_type": "code",
   "execution_count": 15,
   "id": "d82461c4",
   "metadata": {},
   "outputs": [],
   "source": [
    "tool_node = ToolNode(tools=tools)\n",
    "\n",
    "graph = StateGraph(State)\n",
    "graph.add_node(\"chatbot\", chatbot)\n",
    "graph.add_node(\"tools\", tool_node)\n",
    "\n",
    "graph.set_entry_point(\"chatbot\")\n",
    "graph.add_conditional_edges(\"chatbot\", router, {\"tool_call\":\"tools\", \"end\":END})\n",
    "graph.add_edge(\"tools\", \"chatbot\")\n",
    "\n",
    "app = graph.compile(checkpointer=memory)\n",
    "config = {\"configurable\":{\n",
    "    \"thread_id\":1\n",
    "}}"
   ]
  },
  {
   "cell_type": "code",
   "execution_count": 18,
   "id": "33b58988",
   "metadata": {},
   "outputs": [
    {
     "name": "stdout",
     "output_type": "stream",
     "text": [
      "BOT🤖: Hello Steve! How can I help you?\n",
      "BOT🤖: Yes, I am here. How can I help you, Steve?\n",
      "BOT🤖: The current temperature in Vaasa, Finland is 59°F. The forecast for today includes a high of 44°F.\n",
      "BOT🤖: The current temperature in Vaasa, Finland is 15°C.\n",
      "BOT🤖: Today is October 27, 2024.\n",
      "👋 Bye Bye!\n"
     ]
    }
   ],
   "source": [
    "while True:\n",
    "    user_input = input(\"👤 You: \")\n",
    "    if user_input.lower() == \"exit\":\n",
    "        print(\"👋 Bye Bye!\")\n",
    "        break\n",
    "    else:\n",
    "        \n",
    "        result = app.invoke({\"messages\": [HumanMessage(content=user_input)]}, config=config)\n",
    "        \n",
    "        print(f\"BOT🤖: {result['messages'][-1].content}\")"
   ]
  },
  {
   "cell_type": "code",
   "execution_count": null,
   "id": "8d864564",
   "metadata": {},
   "outputs": [],
   "source": []
  },
  {
   "cell_type": "code",
   "execution_count": null,
   "id": "41a3cf65",
   "metadata": {},
   "outputs": [],
   "source": []
  },
  {
   "cell_type": "code",
   "execution_count": null,
   "id": "a7771b33",
   "metadata": {},
   "outputs": [],
   "source": []
  }
 ],
 "metadata": {
  "kernelspec": {
   "display_name": ".venv",
   "language": "python",
   "name": "python3"
  },
  "language_info": {
   "codemirror_mode": {
    "name": "ipython",
    "version": 3
   },
   "file_extension": ".py",
   "mimetype": "text/x-python",
   "name": "python",
   "nbconvert_exporter": "python",
   "pygments_lexer": "ipython3",
   "version": "3.11.9"
  }
 },
 "nbformat": 4,
 "nbformat_minor": 5
}
