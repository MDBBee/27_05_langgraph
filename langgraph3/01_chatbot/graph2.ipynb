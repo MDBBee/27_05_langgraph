{
 "cells": [
  {
   "cell_type": "markdown",
   "id": "f3081e8b",
   "metadata": {},
   "source": [
    "### Graph2: Bot with tools"
   ]
  },
  {
   "cell_type": "code",
   "execution_count": 6,
   "id": "5c99c061",
   "metadata": {},
   "outputs": [],
   "source": [
    "from typing import TypedDict, Annotated, List\n",
    "from langgraph.graph import StateGraph, START, END, add_messages\n",
    "from dotenv import load_dotenv\n",
    "import os\n",
    "from langchain_google_genai import ChatGoogleGenerativeAI\n",
    "from langchain_core.messages import HumanMessage, AIMessage\n",
    "from tavily import TavilyClient\n",
    "from langchain_community.tools import TavilySearchResults\n",
    "from langgraph.prebuilt import ToolNode\n",
    "from langchain_groq import ChatGroq\n"
   ]
  },
  {
   "cell_type": "code",
   "execution_count": 12,
   "id": "5f562997",
   "metadata": {},
   "outputs": [],
   "source": [
    "load_dotenv()\n",
    "llm = ChatGoogleGenerativeAI(model=\"gemini-2.0-flash\")\n",
    "# llm = ChatGroq(model=\"llama-3.1-8b-instant\")\n",
    "\n",
    "class State(TypedDict):\n",
    "    messages: Annotated[list, add_messages]\n",
    "\n",
    "# tav_key = os.environ[\"TAVILY_API_KEY\"]\n",
    "\n",
    "\n",
    "search_tool = TavilySearchResults(max_results=2)\n",
    "tools = [search_tool]\n",
    "\n",
    "llm_with_tools = llm.bind_tools(tools=tools)"
   ]
  },
  {
   "cell_type": "code",
   "execution_count": 27,
   "id": "2ae401b8",
   "metadata": {},
   "outputs": [],
   "source": [
    "# res = llm_with_tools.invoke(\"what is the current weather in Vaasa, Finland?\")\n",
    "# print(res)"
   ]
  },
  {
   "cell_type": "code",
   "execution_count": 8,
   "id": "3eea3711",
   "metadata": {},
   "outputs": [],
   "source": [
    "def chatbot(state:State):\n",
    "    return {\"messages\": [llm_with_tools.invoke(state[\"messages\"])]}\n",
    "\n",
    "def router(state:State):\n",
    "    last_message = state[\"messages\"][-1]\n",
    "\n",
    "    if hasattr(last_message, \"tool_calls\") and len(last_message.tool_calls) > 0:\n",
    "        return \"tool_call\"\n",
    "    else: \n",
    "        return \"end\""
   ]
  },
  {
   "cell_type": "code",
   "execution_count": 9,
   "id": "958a361b",
   "metadata": {},
   "outputs": [],
   "source": [
    "tool_node = ToolNode(tools=tools)\n",
    "\n",
    "graph = StateGraph(State)\n",
    "graph.add_node(\"chatbot\", chatbot)\n",
    "graph.add_node(\"tools\", tool_node)\n",
    "\n",
    "graph.set_entry_point(\"chatbot\")\n",
    "graph.add_conditional_edges(\"chatbot\", router, {\"tool_call\":\"tools\", \"end\":END})\n",
    "graph.add_edge(\"tools\", \"chatbot\")\n",
    "\n",
    "app = graph.compile()"
   ]
  },
  {
   "cell_type": "code",
   "execution_count": 10,
   "id": "b90f2cfd",
   "metadata": {},
   "outputs": [
    {
     "data": {
      "image/png": "[encoded data removed]",
      "text/plain": [
       "<IPython.core.display.Image object>"
      ]
     },
     "metadata": {},
     "output_type": "display_data"
    }
   ],
   "source": [
    "from IPython.display import display, Image\n",
    "display(Image(app.get_graph().draw_mermaid_png()))"
   ]
  },
  {
   "cell_type": "code",
   "execution_count": 11,
   "id": "0bcbc5ff",
   "metadata": {},
   "outputs": [
    {
     "name": "stdout",
     "output_type": "stream",
     "text": [
      "BOT🤖: \n",
      "BOT🤖: \n",
      "BOT🤖: There is no function for that request.\n",
      "BOT🤖: \n",
      "👋 Bye Bye!\n"
     ]
    }
   ],
   "source": [
    "\n",
    "\n",
    "while True:\n",
    "    user_input = input(\"👤 You: \")\n",
    "    if user_input.lower() == \"exit\":\n",
    "        print(\"👋 Bye Bye!\")\n",
    "        break\n",
    "        \n",
    "    result = app.invoke({\"messages\": [HumanMessage(content=user_input)]})\n",
    "    \n",
    "    print(f\"BOT🤖: {result['messages'][1].content}\")"
   ]
  },
  {
   "cell_type": "code",
   "execution_count": null,
   "id": "62028fe9",
   "metadata": {},
   "outputs": [],
   "source": []
  }
 ],
 "metadata": {
  "kernelspec": {
   "display_name": ".venv",
   "language": "python",
   "name": "python3"
  },
  "language_info": {
   "codemirror_mode": {
    "name": "ipython",
    "version": 3
   },
   "file_extension": ".py",
   "mimetype": "text/x-python",
   "name": "python",
   "nbconvert_exporter": "python",
   "pygments_lexer": "ipython3",
   "version": "3.11.9"
  }
 },
 "nbformat": 4,
 "nbformat_minor": 5
}
