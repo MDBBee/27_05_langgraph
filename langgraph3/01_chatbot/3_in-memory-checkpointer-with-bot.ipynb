{
 "cells": [
  {
   "cell_type": "markdown",
   "id": "e3a67ee7",
   "metadata": {},
   "source": [
    "## Graph3: 🤖Bot with memory\n",
    "- Memory & Checkpointers"
   ]
  },
  {
   "cell_type": "code",
   "execution_count": 3,
   "id": "f931b5ec",
   "metadata": {},
   "outputs": [],
   "source": [
    "from typing import TypedDict, Annotated, List\n",
    "from langgraph.graph import StateGraph, START, END, add_messages\n",
    "from dotenv import load_dotenv\n",
    "import os\n",
    "from langchain_google_genai import ChatGoogleGenerativeAI\n",
    "from langchain_core.messages import HumanMessage, AIMessage\n",
    "from langchain_community.tools import TavilySearchResults\n",
    "from langgraph.prebuilt import ToolNode\n",
    "# from langchain_groq import ChatGroq\n",
    "from langgraph.checkpoint.memory import MemorySaver"
   ]
  },
  {
   "cell_type": "code",
   "execution_count": null,
   "id": "5e7b9d01",
   "metadata": {},
   "outputs": [],
   "source": [
    "load_dotenv()\n",
    "memory = MemorySaver()\n",
    "llm = ChatGoogleGenerativeAI(model=\"gemini-2.0-flash\")\n",
    "# llm = ChatGroq(model=\"llama-3.1-8b-instant\")\n",
    "\n",
    "class State(TypedDict):\n",
    "    messages: Annotated[List, add_messages]\n",
    "\n",
    "# tav_key = os.environ[\"TAVILY_API_KEY\"]\n",
    "\n",
    "\n",
    "search_tool = TavilySearchResults(max_results=4)\n",
    "tools = [search_tool]\n",
    "\n",
    "llm_with_tools = llm.bind_tools(tools=tools)"
   ]
  },
  {
   "cell_type": "code",
   "execution_count": 5,
   "id": "3235e0a3",
   "metadata": {},
   "outputs": [],
   "source": [
    "def chatbot(state:State):\n",
    "    return {\"messages\": [llm_with_tools.invoke(state[\"messages\"])]}\n",
    "\n",
    "def router(state:State):\n",
    "    last_message = state[\"messages\"][-1]\n",
    "\n",
    "    if hasattr(last_message, \"tool_calls\") and len(last_message.tool_calls) > 0:\n",
    "        return \"tool_call\"\n",
    "    else: \n",
    "        return \"end\""
   ]
  },
  {
   "cell_type": "code",
   "execution_count": 6,
   "id": "d82461c4",
   "metadata": {},
   "outputs": [],
   "source": [
    "tool_node = ToolNode(tools=tools)\n",
    "\n",
    "graph = StateGraph(State)\n",
    "graph.add_node(\"chatbot\", chatbot)\n",
    "graph.add_node(\"tools\", tool_node)\n",
    "\n",
    "graph.set_entry_point(\"chatbot\")\n",
    "graph.add_conditional_edges(\"chatbot\", router, {\"tool_call\":\"tools\", \"end\":END})\n",
    "graph.add_edge(\"tools\", \"chatbot\")\n",
    "\n",
    "app = graph.compile(checkpointer=memory)\n",
    "config = {\"configurable\":{\n",
    "    \"thread_id\":1\n",
    "}}"
   ]
  },
  {
   "cell_type": "code",
   "execution_count": 7,
   "id": "33b58988",
   "metadata": {},
   "outputs": [
    {
     "name": "stdout",
     "output_type": "stream",
     "text": [
      "{'messages': [HumanMessage(content='Hi, I am Henry', additional_kwargs={}, response_metadata={}, id='fd78c958-e4c7-48f9-9923-0c63c59eb09e'), AIMessage(content='Hello Henry, how can I help you today?', additional_kwargs={}, response_metadata={'prompt_feedback': {'block_reason': 0, 'safety_ratings': []}, 'finish_reason': 'STOP', 'model_name': 'gemini-2.0-flash', 'safety_ratings': []}, id='run--eb59d211-8369-40b9-a449-60f49311a228-0', usage_metadata={'input_tokens': 54, 'output_tokens': 11, 'total_tokens': 65, 'input_token_details': {'cache_read': 0}})]}\n",
      "{'messages': [HumanMessage(content='Hi, I am Henry', additional_kwargs={}, response_metadata={}, id='fd78c958-e4c7-48f9-9923-0c63c59eb09e'), AIMessage(content='Hello Henry, how can I help you today?', additional_kwargs={}, response_metadata={'prompt_feedback': {'block_reason': 0, 'safety_ratings': []}, 'finish_reason': 'STOP', 'model_name': 'gemini-2.0-flash', 'safety_ratings': []}, id='run--eb59d211-8369-40b9-a449-60f49311a228-0', usage_metadata={'input_tokens': 54, 'output_tokens': 11, 'total_tokens': 65, 'input_token_details': {'cache_read': 0}}), HumanMessage(content='What is the current weather in Vaasa, Finland?', additional_kwargs={}, response_metadata={}, id='be428748-72d1-4ae1-9462-8d0156d4e204'), AIMessage(content='', additional_kwargs={'function_call': {'name': 'tavily_search_results_json', 'arguments': '{\"query\": \"current weather in Vaasa, Finland\"}'}}, response_metadata={'prompt_feedback': {'block_reason': 0, 'safety_ratings': []}, 'finish_reason': 'STOP', 'model_name': 'gemini-2.0-flash', 'safety_ratings': []}, id='run--f7646877-bf8b-4a0a-b15e-fc7908ab0062-0', tool_calls=[{'name': 'tavily_search_results_json', 'args': {'query': 'current weather in Vaasa, Finland'}, 'id': 'ae685a84-7bba-48f5-9b78-b3de9d244ba1', 'type': 'tool_call'}], usage_metadata={'input_tokens': 75, 'output_tokens': 16, 'total_tokens': 91, 'input_token_details': {'cache_read': 0}}), ToolMessage(content='[{\"title\": \"Vaasa, Ostrobothnia, Finland Monthly Weather | AccuWeather\", \"url\": \"https://www.accuweather.com/en/fi/vaasa/134772/may-weather/134772\", \"content\": \"Get the monthly weather forecast for Vaasa, Ostrobothnia, Finland, including daily high/low, historical averages, to help you plan ahead.\", \"score\": 0.98548}, {\"title\": \"Vaasa weather in June 2025 - Weather25.com\", \"url\": \"https://www.weather25.com/europe/finland/western-finland/vaasa?page=month&month=June\", \"content\": \"The temperatures in Vaasa in June are quite cold with temperatures between 48°F and 57°F, warm clothes are a must. You can expect about 3 to 8 days of rain\", \"score\": 0.98323}]', name='tavily_search_results_json', id='c92b21a9-93fb-40de-871f-f78d1bd447cf', tool_call_id='ae685a84-7bba-48f5-9b78-b3de9d244ba1', artifact={'query': 'current weather in Vaasa, Finland', 'follow_up_questions': None, 'answer': None, 'images': [], 'results': [{'url': 'https://www.accuweather.com/en/fi/vaasa/134772/may-weather/134772', 'title': 'Vaasa, Ostrobothnia, Finland Monthly Weather | AccuWeather', 'content': 'Get the monthly weather forecast for Vaasa, Ostrobothnia, Finland, including daily high/low, historical averages, to help you plan ahead.', 'score': 0.98548, 'raw_content': None}, {'url': 'https://www.weather25.com/europe/finland/western-finland/vaasa?page=month&month=June', 'title': 'Vaasa weather in June 2025 - Weather25.com', 'content': 'The temperatures in Vaasa in June are quite cold with temperatures between 48°F and 57°F, warm clothes are a must. You can expect about 3 to 8 days of rain', 'score': 0.98323, 'raw_content': None}], 'response_time': 5.12}), AIMessage(content=\"I'm sorry, I don't have enough information to give you the current weather in Vaasa. However, I can tell you that the temperatures in Vaasa in June are quite cold, between 48°F and 57°F. You can expect about 3 to 8 days of rain.\", additional_kwargs={}, response_metadata={'prompt_feedback': {'block_reason': 0, 'safety_ratings': []}, 'finish_reason': 'STOP', 'model_name': 'gemini-2.0-flash', 'safety_ratings': []}, id='run--33fa1c6a-68e9-44b3-9951-4d57ae8c08bd-0', usage_metadata={'input_tokens': 275, 'output_tokens': 66, 'total_tokens': 341, 'input_token_details': {'cache_read': 0}})]}\n",
      "{'messages': [HumanMessage(content='Hi, I am Henry', additional_kwargs={}, response_metadata={}, id='fd78c958-e4c7-48f9-9923-0c63c59eb09e'), AIMessage(content='Hello Henry, how can I help you today?', additional_kwargs={}, response_metadata={'prompt_feedback': {'block_reason': 0, 'safety_ratings': []}, 'finish_reason': 'STOP', 'model_name': 'gemini-2.0-flash', 'safety_ratings': []}, id='run--eb59d211-8369-40b9-a449-60f49311a228-0', usage_metadata={'input_tokens': 54, 'output_tokens': 11, 'total_tokens': 65, 'input_token_details': {'cache_read': 0}}), HumanMessage(content='What is the current weather in Vaasa, Finland?', additional_kwargs={}, response_metadata={}, id='be428748-72d1-4ae1-9462-8d0156d4e204'), AIMessage(content='', additional_kwargs={'function_call': {'name': 'tavily_search_results_json', 'arguments': '{\"query\": \"current weather in Vaasa, Finland\"}'}}, response_metadata={'prompt_feedback': {'block_reason': 0, 'safety_ratings': []}, 'finish_reason': 'STOP', 'model_name': 'gemini-2.0-flash', 'safety_ratings': []}, id='run--f7646877-bf8b-4a0a-b15e-fc7908ab0062-0', tool_calls=[{'name': 'tavily_search_results_json', 'args': {'query': 'current weather in Vaasa, Finland'}, 'id': 'ae685a84-7bba-48f5-9b78-b3de9d244ba1', 'type': 'tool_call'}], usage_metadata={'input_tokens': 75, 'output_tokens': 16, 'total_tokens': 91, 'input_token_details': {'cache_read': 0}}), ToolMessage(content='[{\"title\": \"Vaasa, Ostrobothnia, Finland Monthly Weather | AccuWeather\", \"url\": \"https://www.accuweather.com/en/fi/vaasa/134772/may-weather/134772\", \"content\": \"Get the monthly weather forecast for Vaasa, Ostrobothnia, Finland, including daily high/low, historical averages, to help you plan ahead.\", \"score\": 0.98548}, {\"title\": \"Vaasa weather in June 2025 - Weather25.com\", \"url\": \"https://www.weather25.com/europe/finland/western-finland/vaasa?page=month&month=June\", \"content\": \"The temperatures in Vaasa in June are quite cold with temperatures between 48°F and 57°F, warm clothes are a must. You can expect about 3 to 8 days of rain\", \"score\": 0.98323}]', name='tavily_search_results_json', id='c92b21a9-93fb-40de-871f-f78d1bd447cf', tool_call_id='ae685a84-7bba-48f5-9b78-b3de9d244ba1', artifact={'query': 'current weather in Vaasa, Finland', 'follow_up_questions': None, 'answer': None, 'images': [], 'results': [{'url': 'https://www.accuweather.com/en/fi/vaasa/134772/may-weather/134772', 'title': 'Vaasa, Ostrobothnia, Finland Monthly Weather | AccuWeather', 'content': 'Get the monthly weather forecast for Vaasa, Ostrobothnia, Finland, including daily high/low, historical averages, to help you plan ahead.', 'score': 0.98548, 'raw_content': None}, {'url': 'https://www.weather25.com/europe/finland/western-finland/vaasa?page=month&month=June', 'title': 'Vaasa weather in June 2025 - Weather25.com', 'content': 'The temperatures in Vaasa in June are quite cold with temperatures between 48°F and 57°F, warm clothes are a must. You can expect about 3 to 8 days of rain', 'score': 0.98323, 'raw_content': None}], 'response_time': 5.12}), AIMessage(content=\"I'm sorry, I don't have enough information to give you the current weather in Vaasa. However, I can tell you that the temperatures in Vaasa in June are quite cold, between 48°F and 57°F. You can expect about 3 to 8 days of rain.\", additional_kwargs={}, response_metadata={'prompt_feedback': {'block_reason': 0, 'safety_ratings': []}, 'finish_reason': 'STOP', 'model_name': 'gemini-2.0-flash', 'safety_ratings': []}, id='run--33fa1c6a-68e9-44b3-9951-4d57ae8c08bd-0', usage_metadata={'input_tokens': 275, 'output_tokens': 66, 'total_tokens': 341, 'input_token_details': {'cache_read': 0}}), HumanMessage(content='?', additional_kwargs={}, response_metadata={}, id='e7332a65-aeca-488a-9f12-2ce7496bb25c'), AIMessage(content='Is there anything else I can help you with?', additional_kwargs={}, response_metadata={'prompt_feedback': {'block_reason': 0, 'safety_ratings': []}, 'finish_reason': 'STOP', 'model_name': 'gemini-2.0-flash', 'safety_ratings': []}, id='run--ecf53752-c097-4300-8ff4-f4cd90b98bcf-0', usage_metadata={'input_tokens': 342, 'output_tokens': 11, 'total_tokens': 353, 'input_token_details': {'cache_read': 0}})]}\n",
      "👋 Bye Bye!\n"
     ]
    }
   ],
   "source": [
    "while True:\n",
    "    user_input = input(\"👤 You: \")\n",
    "    if user_input.lower() == \"exit\":\n",
    "        print(\"👋 Bye Bye!\")\n",
    "        break\n",
    "    else:\n",
    "        \n",
    "        result = app.invoke({\"messages\": [HumanMessage(content=user_input)]}, config=config)\n",
    "        print(result)\n",
    "        # print(f\"BOT🤖: {result['messages'][-1].content}\")"
   ]
  },
  {
   "cell_type": "code",
   "execution_count": 8,
   "id": "8d864564",
   "metadata": {},
   "outputs": [
    {
     "name": "stdout",
     "output_type": "stream",
     "text": [
      "StateSnapshot(values={'messages': [HumanMessage(content='Hi, I am Henry', additional_kwargs={}, response_metadata={}, id='fd78c958-e4c7-48f9-9923-0c63c59eb09e'), AIMessage(content='Hello Henry, how can I help you today?', additional_kwargs={}, response_metadata={'prompt_feedback': {'block_reason': 0, 'safety_ratings': []}, 'finish_reason': 'STOP', 'model_name': 'gemini-2.0-flash', 'safety_ratings': []}, id='run--eb59d211-8369-40b9-a449-60f49311a228-0', usage_metadata={'input_tokens': 54, 'output_tokens': 11, 'total_tokens': 65, 'input_token_details': {'cache_read': 0}}), HumanMessage(content='What is the current weather in Vaasa, Finland?', additional_kwargs={}, response_metadata={}, id='be428748-72d1-4ae1-9462-8d0156d4e204'), AIMessage(content='', additional_kwargs={'function_call': {'name': 'tavily_search_results_json', 'arguments': '{\"query\": \"current weather in Vaasa, Finland\"}'}}, response_metadata={'prompt_feedback': {'block_reason': 0, 'safety_ratings': []}, 'finish_reason': 'STOP', 'model_name': 'gemini-2.0-flash', 'safety_ratings': []}, id='run--f7646877-bf8b-4a0a-b15e-fc7908ab0062-0', tool_calls=[{'name': 'tavily_search_results_json', 'args': {'query': 'current weather in Vaasa, Finland'}, 'id': 'ae685a84-7bba-48f5-9b78-b3de9d244ba1', 'type': 'tool_call'}], usage_metadata={'input_tokens': 75, 'output_tokens': 16, 'total_tokens': 91, 'input_token_details': {'cache_read': 0}}), ToolMessage(content='[{\"title\": \"Vaasa, Ostrobothnia, Finland Monthly Weather | AccuWeather\", \"url\": \"https://www.accuweather.com/en/fi/vaasa/134772/may-weather/134772\", \"content\": \"Get the monthly weather forecast for Vaasa, Ostrobothnia, Finland, including daily high/low, historical averages, to help you plan ahead.\", \"score\": 0.98548}, {\"title\": \"Vaasa weather in June 2025 - Weather25.com\", \"url\": \"https://www.weather25.com/europe/finland/western-finland/vaasa?page=month&month=June\", \"content\": \"The temperatures in Vaasa in June are quite cold with temperatures between 48°F and 57°F, warm clothes are a must. You can expect about 3 to 8 days of rain\", \"score\": 0.98323}]', name='tavily_search_results_json', id='c92b21a9-93fb-40de-871f-f78d1bd447cf', tool_call_id='ae685a84-7bba-48f5-9b78-b3de9d244ba1', artifact={'query': 'current weather in Vaasa, Finland', 'follow_up_questions': None, 'answer': None, 'images': [], 'results': [{'url': 'https://www.accuweather.com/en/fi/vaasa/134772/may-weather/134772', 'title': 'Vaasa, Ostrobothnia, Finland Monthly Weather | AccuWeather', 'content': 'Get the monthly weather forecast for Vaasa, Ostrobothnia, Finland, including daily high/low, historical averages, to help you plan ahead.', 'score': 0.98548, 'raw_content': None}, {'url': 'https://www.weather25.com/europe/finland/western-finland/vaasa?page=month&month=June', 'title': 'Vaasa weather in June 2025 - Weather25.com', 'content': 'The temperatures in Vaasa in June are quite cold with temperatures between 48°F and 57°F, warm clothes are a must. You can expect about 3 to 8 days of rain', 'score': 0.98323, 'raw_content': None}], 'response_time': 5.12}), AIMessage(content=\"I'm sorry, I don't have enough information to give you the current weather in Vaasa. However, I can tell you that the temperatures in Vaasa in June are quite cold, between 48°F and 57°F. You can expect about 3 to 8 days of rain.\", additional_kwargs={}, response_metadata={'prompt_feedback': {'block_reason': 0, 'safety_ratings': []}, 'finish_reason': 'STOP', 'model_name': 'gemini-2.0-flash', 'safety_ratings': []}, id='run--33fa1c6a-68e9-44b3-9951-4d57ae8c08bd-0', usage_metadata={'input_tokens': 275, 'output_tokens': 66, 'total_tokens': 341, 'input_token_details': {'cache_read': 0}}), HumanMessage(content='?', additional_kwargs={}, response_metadata={}, id='e7332a65-aeca-488a-9f12-2ce7496bb25c'), AIMessage(content='Is there anything else I can help you with?', additional_kwargs={}, response_metadata={'prompt_feedback': {'block_reason': 0, 'safety_ratings': []}, 'finish_reason': 'STOP', 'model_name': 'gemini-2.0-flash', 'safety_ratings': []}, id='run--ecf53752-c097-4300-8ff4-f4cd90b98bcf-0', usage_metadata={'input_tokens': 342, 'output_tokens': 11, 'total_tokens': 353, 'input_token_details': {'cache_read': 0}})]}, next=(), config={'configurable': {'thread_id': '1', 'checkpoint_ns': '', 'checkpoint_id': '1f041bda-0672-69a0-8009-150d156dac70'}}, metadata={'source': 'loop', 'writes': {'chatbot': {'messages': [AIMessage(content='Is there anything else I can help you with?', additional_kwargs={}, response_metadata={'prompt_feedback': {'block_reason': 0, 'safety_ratings': []}, 'finish_reason': 'STOP', 'model_name': 'gemini-2.0-flash', 'safety_ratings': []}, id='run--ecf53752-c097-4300-8ff4-f4cd90b98bcf-0', usage_metadata={'input_tokens': 342, 'output_tokens': 11, 'total_tokens': 353, 'input_token_details': {'cache_read': 0}})]}}, 'step': 9, 'parents': {}, 'thread_id': 1}, created_at='2025-06-05T03:31:54.422518+00:00', parent_config={'configurable': {'thread_id': '1', 'checkpoint_ns': '', 'checkpoint_id': '1f041bda-00f3-652c-8008-aa76a0bfaa4e'}}, tasks=(), interrupts=())\n"
     ]
    }
   ],
   "source": [
    "# Checking the checkpoint state\n",
    "print(app.get_state(config=config))"
   ]
  },
  {
   "cell_type": "code",
   "execution_count": null,
   "id": "41a3cf65",
   "metadata": {},
   "outputs": [],
   "source": []
  },
  {
   "cell_type": "code",
   "execution_count": null,
   "id": "a7771b33",
   "metadata": {},
   "outputs": [],
   "source": []
  }
 ],
 "metadata": {
  "kernelspec": {
   "display_name": ".venv",
   "language": "python",
   "name": "python3"
  },
  "language_info": {
   "codemirror_mode": {
    "name": "ipython",
    "version": 3
   },
   "file_extension": ".py",
   "mimetype": "text/x-python",
   "name": "python",
   "nbconvert_exporter": "python",
   "pygments_lexer": "ipython3",
   "version": "3.11.9"
  }
 },
 "nbformat": 4,
 "nbformat_minor": 5
}
