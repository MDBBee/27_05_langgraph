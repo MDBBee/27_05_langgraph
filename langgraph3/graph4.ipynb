{
 "cells": [
  {
   "cell_type": "markdown",
   "id": "40cc8e18",
   "metadata": {},
   "source": [
    "## Graph3: 🤖Bot with sqlite memory"
   ]
  },
  {
   "cell_type": "code",
   "execution_count": 1,
   "id": "ab8a298d",
   "metadata": {},
   "outputs": [],
   "source": [
    "from typing import TypedDict, Annotated, List\n",
    "from langgraph.graph import StateGraph, START, END, add_messages\n",
    "from dotenv import load_dotenv\n",
    "import os\n",
    "from langchain_google_genai import ChatGoogleGenerativeAI\n",
    "from langchain_core.messages import HumanMessage, AIMessage\n",
    "# from tavily import TavilyClient\n",
    "from langchain_community.tools import TavilySearchResults\n",
    "from langgraph.prebuilt import ToolNode\n",
    "from langchain_groq import ChatGroq\n",
    "# from langgraph.checkpoint.memory import MemorySaver\n",
    "from langgraph.checkpoint.sqlite import SqliteSaver\n",
    "import sqlite3"
   ]
  },
  {
   "cell_type": "code",
   "execution_count": 2,
   "id": "7893e505",
   "metadata": {},
   "outputs": [],
   "source": [
    "load_dotenv()\n",
    "llm = ChatGoogleGenerativeAI(model=\"gemini-2.0-flash\")\n",
    "# llm = ChatGroq(model=\"llama-3.1-8b-instant\")\n",
    "\n",
    "class State(TypedDict):\n",
    "    messages: Annotated[list, add_messages]\n",
    "\n",
    "# tav_key = os.environ[\"TAVILY_API_KEY\"]\n",
    "\n",
    "\n",
    "search_tool = TavilySearchResults(max_results=2)\n",
    "tools = [search_tool]\n",
    "\n",
    "llm_with_tools = llm.bind_tools(tools=tools)\n",
    "\n",
    "sqlite_conn = sqlite3.connect(\"checkpoint.sqlite\",  check_same_thread=False)\n",
    "memory = SqliteSaver(sqlite_conn)"
   ]
  },
  {
   "cell_type": "code",
   "execution_count": 3,
   "metadata": {},
   "outputs": [],
   "source": [
    "def chatbot(state:State):\n",
    "    return {\"messages\": [llm_with_tools.invoke(state[\"messages\"])]}\n",
    "\n",
    "def router(state:State):\n",
    "    last_message = state[\"messages\"][-1]\n",
    "\n",
    "    if hasattr(last_message, \"tool_calls\") and len(last_message.tool_calls) > 0:\n",
    "        return \"tool_call\"\n",
    "    else: \n",
    "        return \"end\""
   ]
  },
  {
   "cell_type": "code",
   "execution_count": 4,
   "id": "99b1067b",
   "metadata": {},
   "outputs": [],
   "source": [
    "tool_node = ToolNode(tools=tools)\n",
    "\n",
    "graph = StateGraph(State)\n",
    "graph.add_node(\"chatbot\", chatbot)\n",
    "graph.add_node(\"tools\", tool_node)\n",
    "\n",
    "graph.set_entry_point(\"chatbot\")\n",
    "graph.add_conditional_edges(\"chatbot\", router, {\"tool_call\":\"tools\", \"end\":END})\n",
    "graph.add_edge(\"tools\", \"chatbot\")\n",
    "\n",
    "app = graph.compile(checkpointer=memory)\n",
    "config = {\"configurable\":{\n",
    "    \"thread_id\":2\n",
    "}}"
   ]
  },
  {
   "cell_type": "code",
   "execution_count": 6,
   "id": "f0a14644",
   "metadata": {},
   "outputs": [
    {
     "name": "stdout",
     "output_type": "stream",
     "text": [
      "BOT🤖: Yes, I remember your name is Bobby.\n",
      "BOT🤖: Yes, I'm here. How can I help you?\n",
      "BOT🤖: Okay, I'll try! What's up? Anything I can do for you today, *pal*? 😉\n",
      "BOT🤖: Cheers to you too, mate! What can I do for you today? Lay it on me!\n",
      "BOT🤖: Haha! Got it. Just letting me know you're still there? 👍 Anything else I can do for you? Maybe tell you a joke? Or look something up?\n",
      "👋 Bye Bye!\n"
     ]
    }
   ],
   "source": [
    "while True:\n",
    "    user_input = input(\"👤 You: \")\n",
    "    if user_input.lower() == \"exit\":\n",
    "        print(\"👋 Bye Bye!\")\n",
    "        break\n",
    "    else:\n",
    "        \n",
    "        result = app.invoke({\"messages\": [HumanMessage(content=user_input)]}, config=config)\n",
    "        \n",
    "        print(f\"BOT🤖: {result['messages'][-1].content}\")"
   ]
  }
 ],
 "metadata": {
  "kernelspec": {
   "display_name": ".venv",
   "language": "python",
   "name": "python3"
  },
  "language_info": {
   "codemirror_mode": {
    "name": "ipython",
    "version": 3
   },
   "file_extension": ".py",
   "mimetype": "text/x-python",
   "name": "python",
   "nbconvert_exporter": "python",
   "pygments_lexer": "ipython3",
   "version": "3.11.9"
  }
 },
 "nbformat": 4,
 "nbformat_minor": 5
}
