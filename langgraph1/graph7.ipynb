{
 "cells": [
  {
   "cell_type": "markdown",
   "id": "7ed53761",
   "metadata": {},
   "source": [
    "# Graph7: Agent\n",
    "- Memory integration"
   ]
  },
  {
   "cell_type": "code",
   "execution_count": 3,
   "id": "49618570",
   "metadata": {},
   "outputs": [],
   "source": [
    "from typing import TypedDict, List, Union\n",
    "from langchain_core.messages import HumanMessage, AIMessage\n",
    "from langchain.chat_models import ChatOpenAI\n",
    "from langgraph.graph import StateGraph, START, END\n",
    "from openai import OpenAI\n",
    "from dotenv import load_dotenv\n",
    "import os"
   ]
  },
  {
   "cell_type": "code",
   "execution_count": null,
   "id": "a1feb763",
   "metadata": {},
   "outputs": [
    {
     "name": "stderr",
     "output_type": "stream",
     "text": [
      "C:\\Users\\maxdb\\AppData\\Local\\Temp\\ipykernel_30136\\3646470601.py:6: LangChainDeprecationWarning: The class `ChatOpenAI` was deprecated in LangChain 0.0.10 and will be removed in 1.0. An updated version of the class exists in the :class:`~langchain-openai package and should be used instead. To use it run `pip install -U :class:`~langchain-openai` and import as `from :class:`~langchain_openai import ChatOpenAI``.\n",
      "  llm = ChatOpenAI(\n"
     ]
    }
   ],
   "source": [
    "load_dotenv()\n",
    "api_key = os.getenv(\"open_router_api_key\")\n",
    "model=\"meta-llama/llama-4-maverick:free\"\n",
    "base_url=\"https://openrouter.ai/api/v1\"\n",
    "\n",
    "llm = ChatOpenAI(\n",
    "  openai_api_key=api_key,\n",
    "  openai_api_base=base_url,\n",
    "  model_name=model,\n",
    ")\n",
    "\n",
    "class AgentState(TypedDict):\n",
    "    messages: List[Union[HumanMessage, AIMessage]]"
   ]
  },
  {
   "cell_type": "code",
   "execution_count": 5,
   "id": "4dfdffd8",
   "metadata": {},
   "outputs": [],
   "source": [
    "def process(state:AgentState) -> AgentState:\n",
    "    \"\"\"This node will respond to your input\"\"\"\n",
    "    response = llm.invoke(state['messages'])\n",
    "    state['messages'].append(AIMessage(content=response.content))\n",
    "    print(f\"\\nAI: {response.content}\")\n",
    "    return state"
   ]
  },
  {
   "cell_type": "code",
   "execution_count": null,
   "id": "51eb1672",
   "metadata": {},
   "outputs": [],
   "source": [
    "graph = StateGraph(AgentState)\n",
    "graph.add_node(\"process\", process)\n",
    "graph.add_edge(START, \"process\")\n",
    "graph.add_edge(\"process\", END)\n",
    "agent = graph.compile()\n",
    "\n",
    "conversation_history = []\n",
    "\n",
    "user_input = input(\"Enter Query: \")\n",
    "while user_input != \"exit\":\n",
    "    conversation_history.append(HumanMessage(content=user_input))\n",
    "    result = agent.invoke({\"messages\":conversation_history})\n",
    "\n",
    "    print(result[\"messages\"])\n",
    "    conversation_history = result[\"messages\"]\n",
    "\n",
    "    user_input = input(\"Enter Query: \")\n",
    "\n",
    "with open(\"conversation.txt\", \"w\") as f:\n",
    "    f.write(\"Your conversation Log:\\n\")\n",
    "    for message in conversation_history[-5:]:\n",
    "        if isinstance(message, HumanMessage):\n",
    "            f.write(f\"You: {message.content}\\n\")\n",
    "        elif isinstance(message, AIMessage):\n",
    "            f.write(f\"AI: {message.content}\\n\\n\")\n",
    "    f.write(\"End of Chat!\")\n",
    "\n",
    "print(\"Conversation saved to conversation.txt\")\n"
   ]
  },
  {
   "cell_type": "code",
   "execution_count": null,
   "id": "88a3da1b",
   "metadata": {},
   "outputs": [],
   "source": []
  },
  {
   "cell_type": "code",
   "execution_count": null,
   "id": "ca576c81",
   "metadata": {},
   "outputs": [],
   "source": []
  }
 ],
 "metadata": {
  "kernelspec": {
   "display_name": ".venv",
   "language": "python",
   "name": "python3"
  },
  "language_info": {
   "codemirror_mode": {
    "name": "ipython",
    "version": 3
   },
   "file_extension": ".py",
   "mimetype": "text/x-python",
   "name": "python",
   "nbconvert_exporter": "python",
   "pygments_lexer": "ipython3",
   "version": "3.11.9"
  }
 },
 "nbformat": 4,
 "nbformat_minor": 5
}
