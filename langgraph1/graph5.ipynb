{
 "cells": [
  {
   "cell_type": "markdown",
   "id": "7cb85820",
   "metadata": {},
   "source": [
    "# Graph 5: Looping Graph\n",
    "- Looping logic\n",
    "- conditional edges"
   ]
  },
  {
   "cell_type": "code",
   "execution_count": 8,
   "id": "5d404151",
   "metadata": {},
   "outputs": [],
   "source": [
    "from typing import TypedDict, List, Dict\n",
    "from langgraph.graph import StateGraph, START, END\n",
    "import random"
   ]
  },
  {
   "cell_type": "code",
   "execution_count": 9,
   "id": "086b29de",
   "metadata": {},
   "outputs": [],
   "source": [
    "class AgentState(TypedDict):\n",
    "    name:str\n",
    "    number: List[int]\n",
    "    counter: int"
   ]
  },
  {
   "cell_type": "code",
   "execution_count": 14,
   "id": "1375c34d",
   "metadata": {},
   "outputs": [],
   "source": [
    "def greet_node(state: AgentState) -> AgentState:\n",
    "    \"\"\"Greeting node which says hi\"\"\"\n",
    "    state['name'] = f\"Hi there, {state['name']}\"\n",
    "    state['counter'] = 0\n",
    "\n",
    "    return state\n",
    "\n",
    "def random_node(state: AgentState) -> AgentState:\n",
    "    \"\"\"Generate random number from 0 to 10\"\"\"\n",
    "    state['number'].append(random.randint(0,10))\n",
    "    state['counter'] += 1\n",
    "\n",
    "    return state\n",
    "\n",
    "# Path/routing_func(should_loop): decides the path to take by returning a path-map(\"loop\"|\"exit\")\n",
    "def should_loop(state: AgentState) -> AgentState:\n",
    "    \"\"\"function to decide what to do next\"\"\"\n",
    "\n",
    "    if state['counter'] < 5:\n",
    "        print(\"ENTERING LOOP\", state[\"counter\"])\n",
    "        return \"loop\" # Looping continues\n",
    "    else:\n",
    "        return \"exit\" # Quit looping"
   ]
  },
  {
   "cell_type": "code",
   "execution_count": 15,
   "id": "637b94ca",
   "metadata": {},
   "outputs": [],
   "source": [
    "graph = StateGraph(AgentState)\n",
    "graph.add_node(\"greet\", greet_node)\n",
    "graph.add_node(\"random\", random_node)\n",
    "graph.add_edge(\"greet\", \"random\")\n",
    "\n",
    "graph.set_entry_point(\"greet\")\n",
    "graph.add_conditional_edges(\"random\", should_loop, {\"loop\":\"random\", \"exit\": END})\n",
    "\n",
    "app = graph.compile()"
   ]
  },
  {
   "cell_type": "code",
   "execution_count": 16,
   "id": "b410dd3e",
   "metadata": {},
   "outputs": [
    {
     "data": {
      "image/png": "[encoded data removed]",
      "text/plain": [
       "<IPython.core.display.Image object>"
      ]
     },
     "metadata": {},
     "output_type": "display_data"
    }
   ],
   "source": [
    "from IPython.display import Image, display\n",
    "display(Image(app.get_graph().draw_mermaid_png()))"
   ]
  },
  {
   "cell_type": "code",
   "execution_count": 18,
   "id": "5b4b7aec",
   "metadata": {},
   "outputs": [
    {
     "name": "stdout",
     "output_type": "stream",
     "text": [
      "ENTERING LOOP 1\n",
      "ENTERING LOOP 2\n",
      "ENTERING LOOP 3\n",
      "ENTERING LOOP 4\n",
      "{'name': 'Hi there, Henry', 'number': [7, 9, 10, 2, 7], 'counter': 5}\n"
     ]
    }
   ],
   "source": [
    "res = app.invoke({\"name\": \"Henry\", \"number\":[]})\n",
    "print(res)"
   ]
  },
  {
   "cell_type": "markdown",
   "id": "7b10145c",
   "metadata": {},
   "source": [
    "# Exercise 5"
   ]
  },
  {
   "cell_type": "code",
   "execution_count": 75,
   "id": "c3d0ae97",
   "metadata": {},
   "outputs": [],
   "source": [
    "class State(TypedDict):\n",
    "    name:str\n",
    "    guesses: List[int]\n",
    "    attemps: int\n",
    "    lower_bound: int\n",
    "    upper_bound: int\n",
    "    guess_count: int\n",
    "    num_to_guess: int\n",
    "    hint: str\n"
   ]
  },
  {
   "cell_type": "code",
   "execution_count": 121,
   "id": "bf388317",
   "metadata": {},
   "outputs": [],
   "source": [
    "def setup(state: State) -> State:\n",
    "    \"\"\"sets up the game\"\"\" \n",
    "    state['num_to_guess'] = 10\n",
    "    state['lower_bound'] = 1\n",
    "    state['upper_bound'] = 12\n",
    "    state['guess_count'] = 0\n",
    "\n",
    "    return state\n",
    "\n",
    "def guess (state: State) -> State:\n",
    "    \"\"\"guessing begins\"\"\" \n",
    "    if state['hint'] == \"\":\n",
    "        guess = random.randint(state['lower_bound'], state['upper_bound'])\n",
    "    if state[\"hint\"] == \"higher\":\n",
    "        guess = random.randint(state[\"guesses\"][-1], state['upper_bound'])\n",
    "    if state[\"hint\"] == \"lower\":\n",
    "        guess = random.randint(state['lower_bound'][-1], state[\"guesses\"][-1])\n",
    "\n",
    "    state['guesses'].append(guess)\n",
    "    return state\n",
    "\n",
    "def wanna_loop (state: State) -> State:\n",
    "    \"\"\"conditional edge func\"\"\"\n",
    "    state['guess_count'] = len(state['guesses'])\n",
    "    print(f\"current guesses: {state['guesses']}. guess_count:{len(state['guesses'])}\")\n",
    "    print(f\"Number to guess: {state['num_to_guess']}.\")\n",
    "  \n",
    "\n",
    "    if  state['guess_count'] < 7 and state[\"guesses\"][-1] != state[\"num_to_guess\"]:\n",
    "        if state['guess_count'] == 6 and state[\"guesses\"][-1] != state[\"num_to_guess\"]:\n",
    "            print(f\"Sorry you lost !!\")\n",
    "            return \"exit\"\n",
    "        elif state[\"guesses\"][-1] < state['num_to_guess']:\n",
    "           state['hint'] = \"higher\"\n",
    "           print(\"Next iteration Hint: higher....\")\n",
    "        elif state[\"guesses\"][-1] > state['num_to_guess']:\n",
    "            state['hint'] = \"lower\"\n",
    "            print(\"Next iteration Hint: lower....\")\n",
    "        \n",
    "           \n",
    "        state['guess_count'] += 1\n",
    "        return \"loop\"\n",
    "    elif state['guess_count'] < 7 and state[\"guesses\"][-1] == state[\"num_to_guess\"]:\n",
    "        print(f\"Hurray! you won!... Your guess:{state['guesses'][-1]} \")\n",
    "        return \"exit\"\n",
    "   \n",
    "    else :\n",
    "        return \"exit\""
   ]
  },
  {
   "cell_type": "code",
   "execution_count": 122,
   "id": "b145ebbd",
   "metadata": {},
   "outputs": [],
   "source": [
    "graph2 = StateGraph(State)\n",
    "\n",
    "graph2.add_node(\"setup\", setup)\n",
    "graph2.add_node(\"guess\", guess)\n",
    "graph2.add_edge(\"setup\", \"guess\")\n",
    "\n",
    "graph2.add_edge(START, \"setup\")\n",
    "graph2.add_conditional_edges(\"guess\", wanna_loop, {\"loop\":\"guess\", \"exit\": END} )\n",
    "\n",
    "app = graph2.compile()"
   ]
  },
  {
   "cell_type": "code",
   "execution_count": 98,
   "id": "0e48bd03",
   "metadata": {},
   "outputs": [
    {
     "data": {
      "image/png": "[encoded data removed]",
      "text/plain": [
       "<IPython.core.display.Image object>"
      ]
     },
     "metadata": {},
     "output_type": "display_data"
    }
   ],
   "source": [
    "from IPython.display import Image, display\n",
    "display(Image(app.get_graph().draw_mermaid_png()))"
   ]
  },
  {
   "cell_type": "code",
   "execution_count": 141,
   "id": "cc874198",
   "metadata": {},
   "outputs": [
    {
     "name": "stdout",
     "output_type": "stream",
     "text": [
      "current guesses: [2]. guess_count:1\n",
      "Number to guess: 10.\n",
      "Next iteration Hint: higher....\n",
      "current guesses: [2, 5]. guess_count:2\n",
      "Number to guess: 10.\n",
      "Next iteration Hint: higher....\n",
      "current guesses: [2, 5, 5]. guess_count:3\n",
      "Number to guess: 10.\n",
      "Next iteration Hint: higher....\n",
      "current guesses: [2, 5, 5, 2]. guess_count:4\n",
      "Number to guess: 10.\n",
      "Next iteration Hint: higher....\n",
      "current guesses: [2, 5, 5, 2, 3]. guess_count:5\n",
      "Number to guess: 10.\n",
      "Next iteration Hint: higher....\n",
      "current guesses: [2, 5, 5, 2, 3, 8]. guess_count:6\n",
      "Number to guess: 10.\n",
      "Sorry you lost !!\n"
     ]
    }
   ],
   "source": [
    "res = app.invoke({\"name\": \"Student\", \"guesses\": [], \"hint\": \"\"})"
   ]
  }
 ],
 "metadata": {
  "kernelspec": {
   "display_name": ".venv",
   "language": "python",
   "name": "python3"
  },
  "language_info": {
   "codemirror_mode": {
    "name": "ipython",
    "version": 3
   },
   "file_extension": ".py",
   "mimetype": "text/x-python",
   "name": "python",
   "nbconvert_exporter": "python",
   "pygments_lexer": "ipython3",
   "version": "3.11.9"
  }
 },
 "nbformat": 4,
 "nbformat_minor": 5
}
