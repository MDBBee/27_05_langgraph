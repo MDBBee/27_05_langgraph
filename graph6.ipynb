{
 "cells": [
  {
   "cell_type": "markdown",
   "id": "48d4c178",
   "metadata": {},
   "source": [
    "# Graph5: Agent1 \n",
    "- Simple Bot\n",
    " - Integrating LLMs in graphs"
   ]
  },
  {
   "cell_type": "code",
   "execution_count": 8,
   "id": "782c9803",
   "metadata": {},
   "outputs": [],
   "source": [
    "from typing import TypedDict, List\n",
    "from langchain_core.messages import HumanMessage\n",
    "from langchain.chat_models import ChatOpenAI\n",
    "from openai import OpenAI\n",
    "from dotenv import load_dotenv\n",
    "import os\n"
   ]
  },
  {
   "cell_type": "code",
   "execution_count": 10,
   "id": "3e853dd8",
   "metadata": {},
   "outputs": [],
   "source": [
    "load_dotenv()\n",
    "api_key = os.getenv(\"open_router_api_key\")\n",
    "model=\"meta-llama/llama-4-maverick:free\"\n",
    "base_url=\"https://openrouter.ai/api/v1\"\n",
    "\n",
    "llm = ChatOpenAI(\n",
    "  openai_api_key=api_key,\n",
    "  openai_api_base=base_url,\n",
    "  model_name=model,\n",
    ")\n",
    "\n",
    "class AgentState(TypedDict):\n",
    "    messages: List[HumanMessage]"
   ]
  },
  {
   "cell_type": "code",
   "execution_count": null,
   "id": "1e4aadc2",
   "metadata": {},
   "outputs": [],
   "source": [
    "\n",
    "def process(state:AgentState) -> AgentState:\n",
    "    response = llm.invoke(state['messages'])\n",
    "    print(f\"\\nAI: {response.content}\")"
   ]
  },
  {
   "cell_type": "code",
   "execution_count": null,
   "id": "1a6a7d8a",
   "metadata": {},
   "outputs": [],
   "source": []
  },
  {
   "cell_type": "code",
   "execution_count": null,
   "id": "ee3ff5cc",
   "metadata": {},
   "outputs": [],
   "source": []
  },
  {
   "cell_type": "code",
   "execution_count": null,
   "id": "443caa79",
   "metadata": {},
   "outputs": [],
   "source": []
  },
  {
   "cell_type": "code",
   "execution_count": null,
   "id": "ee45edf7",
   "metadata": {},
   "outputs": [],
   "source": []
  },
  {
   "cell_type": "code",
   "execution_count": null,
   "id": "0e4201c4",
   "metadata": {},
   "outputs": [],
   "source": []
  }
 ],
 "metadata": {
  "kernelspec": {
   "display_name": ".venv",
   "language": "python",
   "name": "python3"
  },
  "language_info": {
   "codemirror_mode": {
    "name": "ipython",
    "version": 3
   },
   "file_extension": ".py",
   "mimetype": "text/x-python",
   "name": "python",
   "nbconvert_exporter": "python",
   "pygments_lexer": "ipython3",
   "version": "3.11.9"
  }
 },
 "nbformat": 4,
 "nbformat_minor": 5
}
