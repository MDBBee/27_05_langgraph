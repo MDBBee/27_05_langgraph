{
 "cells": [
  {
   "cell_type": "code",
   "execution_count": 2,
   "id": "1b6a33e1",
   "metadata": {},
   "outputs": [],
   "source": [
    "from typing import Dict, TypedDict\n",
    "from langgraph.graph import StateGraph"
   ]
  },
  {
   "cell_type": "code",
   "execution_count": 5,
   "id": "70593c28",
   "metadata": {},
   "outputs": [],
   "source": [
    "\n",
    "class AgentState(TypedDict):\n",
    "    message: str\n",
    "\n",
    "def greeting_node(state: AgentState) -> AgentState:\n",
    "    \"\"\"Simple node that adds a greeting message to the state\"\"\"\n",
    "\n",
    "    state['message'] = f\"Hey {state['message']}, how is your day going?\"\n",
    "\n",
    "    return state"
   ]
  },
  {
   "cell_type": "code",
   "execution_count": 6,
   "id": "7fe41287",
   "metadata": {},
   "outputs": [],
   "source": [
    "graph = StateGraph(AgentState)\n",
    "graph.add_node(\"greeter_func\", greeting_node)\n",
    "graph.set_entry_point(\"greeter_func\")\n",
    "graph.set_finish_point(\"greeter_func\")\n",
    "\n",
    "app = graph.compile()"
   ]
  },
  {
   "cell_type": "code",
   "execution_count": 7,
   "id": "f95fc6c7",
   "metadata": {},
   "outputs": [
    {
     "data": {
      "image/png": "[encoded data removed]",
      "text/plain": [
       "<IPython.core.display.Image object>"
      ]
     },
     "metadata": {},
     "output_type": "display_data"
    }
   ],
   "source": [
    "from IPython.display import Image, display\n",
    "display(Image(app.get_graph().draw_mermaid_png()))"
   ]
  },
  {
   "cell_type": "code",
   "execution_count": 8,
   "id": "d37289ff",
   "metadata": {},
   "outputs": [],
   "source": [
    "result = app.invoke({\"message\": \"John\"})"
   ]
  },
  {
   "cell_type": "code",
   "execution_count": 9,
   "id": "fb081f67",
   "metadata": {},
   "outputs": [
    {
     "data": {
      "text/plain": [
       "'Hey John, how is your day going?'"
      ]
     },
     "execution_count": 9,
     "metadata": {},
     "output_type": "execute_result"
    }
   ],
   "source": [
    "result[\"message\"]"
   ]
  },
  {
   "cell_type": "code",
   "execution_count": 13,
   "id": "b1c95653",
   "metadata": {},
   "outputs": [],
   "source": [
    "class StateSchema(TypedDict):\n",
    "    name: str\n",
    "\n",
    "def comp(state: StateSchema) -> StateSchema:\n",
    "    state['name'] = f\"{state['name']}, you're doing an amazing job learning Langgraph\"\n",
    "    return state"
   ]
  },
  {
   "cell_type": "code",
   "execution_count": 16,
   "id": "412d6a94",
   "metadata": {},
   "outputs": [],
   "source": [
    "graph1 = StateGraph(StateSchema)\n",
    "graph1.add_node(\"compliment\", comp)\n",
    "graph1.set_entry_point(\"compliment\")\n",
    "graph1.set_finish_point(\"compliment\")\n",
    "\n",
    "app1 = graph1.compile()"
   ]
  },
  {
   "cell_type": "code",
   "execution_count": 17,
   "id": "01ea0f58",
   "metadata": {},
   "outputs": [],
   "source": [
    "res = app1.invoke({\"name\":\"Bobby\"})"
   ]
  },
  {
   "cell_type": "code",
   "execution_count": 18,
   "id": "a058d9c5",
   "metadata": {},
   "outputs": [
    {
     "data": {
      "text/plain": [
       "\"Bobby, you're doing an amazing job learning Langgraph\""
      ]
     },
     "execution_count": 18,
     "metadata": {},
     "output_type": "execute_result"
    }
   ],
   "source": [
    "res[\"name\"]"
   ]
  }
 ],
 "metadata": {
  "kernelspec": {
   "display_name": ".venv",
   "language": "python",
   "name": "python3"
  },
  "language_info": {
   "codemirror_mode": {
    "name": "ipython",
    "version": 3
   },
   "file_extension": ".py",
   "mimetype": "text/x-python",
   "name": "python",
   "nbconvert_exporter": "python",
   "pygments_lexer": "ipython3",
   "version": "3.11.9"
  }
 },
 "nbformat": 4,
 "nbformat_minor": 5
}
