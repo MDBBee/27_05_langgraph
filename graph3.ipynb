{
 "cells": [
  {
   "cell_type": "markdown",
   "id": "fb00f50a",
   "metadata": {},
   "source": [
    "## Multiple Nodes and Edges"
   ]
  },
  {
   "cell_type": "code",
   "execution_count": 1,
   "id": "ab706f77",
   "metadata": {},
   "outputs": [],
   "source": [
    "from typing import TypedDict\n",
    "from langgraph.graph import StateGraph"
   ]
  },
  {
   "cell_type": "code",
   "execution_count": 2,
   "id": "cffbce32",
   "metadata": {},
   "outputs": [],
   "source": [
    "class AgentState(TypedDict):\n",
    "    name: str\n",
    "    age: str\n",
    "    final: str"
   ]
  },
  {
   "cell_type": "code",
   "execution_count": 3,
   "id": "886db2ba",
   "metadata": {},
   "outputs": [],
   "source": [
    "def first_node(state:AgentState) -> AgentState:\n",
    "    \"\"\"First node\"\"\"\n",
    "\n",
    "    state['final'] = f\"Hi {state['name']}!\"\n",
    "    return state\n",
    "\n",
    "def second_node(state:AgentState) -> AgentState:\n",
    "    \"\"\"Second node\"\"\"\n",
    "\n",
    "    state['final'] = f\"{state['final']} You are  {state['age']} years old!\"\n",
    "    return state"
   ]
  },
  {
   "cell_type": "code",
   "execution_count": 5,
   "id": "6148dce0",
   "metadata": {},
   "outputs": [],
   "source": [
    "graph = StateGraph(AgentState)\n",
    "graph.add_node(\"f_node\", first_node)\n",
    "graph.add_node(\"s_node\", second_node)\n",
    "\n",
    "graph.set_entry_point(\"f_node\")\n",
    "graph.add_edge(\"f_node\",\"s_node\")\n",
    "graph.set_finish_point(\"s_node\")\n",
    "\n",
    "app = graph.compile()"
   ]
  },
  {
   "cell_type": "code",
   "execution_count": 6,
   "id": "06e1fdc1",
   "metadata": {},
   "outputs": [
    {
     "data": {
      "image/png": "[encoded data removed]",
      "text/plain": [
       "<IPython.core.display.Image object>"
      ]
     },
     "metadata": {},
     "output_type": "display_data"
    }
   ],
   "source": [
    "from IPython.display import Image, display\n",
    "display(Image(app.get_graph().draw_mermaid_png()))"
   ]
  },
  {
   "cell_type": "code",
   "execution_count": 7,
   "id": "19aa7f97",
   "metadata": {},
   "outputs": [
    {
     "data": {
      "text/plain": [
       "'Hi Peter! You are  57 years old!'"
      ]
     },
     "execution_count": 7,
     "metadata": {},
     "output_type": "execute_result"
    }
   ],
   "source": [
    "res = app.invoke({\"name\": \"Peter\", \"age\": \"57\"})\n",
    "res[\"final\"]"
   ]
  }
 ],
 "metadata": {
  "kernelspec": {
   "display_name": ".venv",
   "language": "python",
   "name": "python3"
  },
  "language_info": {
   "codemirror_mode": {
    "name": "ipython",
    "version": 3
   },
   "file_extension": ".py",
   "mimetype": "text/x-python",
   "name": "python",
   "nbconvert_exporter": "python",
   "pygments_lexer": "ipython3",
   "version": "3.11.9"
  }
 },
 "nbformat": 4,
 "nbformat_minor": 5
}
