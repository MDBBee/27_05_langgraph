{
 "cells": [
  {
   "cell_type": "code",
   "execution_count": null,
   "id": "8c4b8724",
   "metadata": {},
   "outputs": [],
   "source": [
    "from typing import TypedDict, List, Union\n",
    "from langgraph.graph import StateGraph"
   ]
  },
  {
   "cell_type": "code",
   "execution_count": 2,
   "id": "223e5b5c",
   "metadata": {},
   "outputs": [],
   "source": [
    "class AgentState(TypedDict):\n",
    "    values: List[int]\n",
    "    name: str\n",
    "    result: str"
   ]
  },
  {
   "cell_type": "code",
   "execution_count": 4,
   "id": "b3e9bc08",
   "metadata": {},
   "outputs": [],
   "source": [
    "def process_values(state: AgentState) -> AgentState:\n",
    "    \"\"\"This function handles multiple different inputs\"\"\"\n",
    "\n",
    "    state['result'] = f\"Hi there {state['name']}! Your sum = {sum(state['values'])}\"\n",
    "    return state"
   ]
  },
  {
   "cell_type": "code",
   "execution_count": 5,
   "id": "3633d346",
   "metadata": {},
   "outputs": [],
   "source": [
    "graph1 = StateGraph(AgentState)\n",
    "graph1.add_node(\"proc\", process_values)\n",
    "graph1.set_entry_point(\"proc\")\n",
    "graph1.set_finish_point(\"proc\")\n",
    "\n",
    "app1 = graph1.compile()"
   ]
  },
  {
   "cell_type": "code",
   "execution_count": 6,
   "id": "19f6dab5",
   "metadata": {},
   "outputs": [
    {
     "data": {
      "image/png": "[encoded data removed]",
      "text/plain": [
       "<IPython.core.display.Image object>"
      ]
     },
     "metadata": {},
     "output_type": "display_data"
    }
   ],
   "source": [
    "from IPython.display import Image, display\n",
    "display(Image(app1.get_graph().draw_mermaid_png()))"
   ]
  },
  {
   "cell_type": "code",
   "execution_count": 7,
   "id": "8a2d52d5",
   "metadata": {},
   "outputs": [],
   "source": [
    "res = app1.invoke({\"values\":[2,4,6,8], \"name\": \"John\" })"
   ]
  },
  {
   "cell_type": "code",
   "execution_count": 8,
   "id": "3c2a4725",
   "metadata": {},
   "outputs": [
    {
     "data": {
      "text/plain": [
       "'Hi there John! Your sum = 20'"
      ]
     },
     "execution_count": 8,
     "metadata": {},
     "output_type": "execute_result"
    }
   ],
   "source": [
    "res[\"result\"]"
   ]
  },
  {
   "cell_type": "code",
   "execution_count": 16,
   "id": "c33a85f8",
   "metadata": {},
   "outputs": [],
   "source": [
    "from functools import reduce\n",
    "class StateSchema(TypedDict):\n",
    "    name: str\n",
    "    value: List[int]\n",
    "    operator: str\n",
    "    result: str\n",
    "\n",
    "def task1(state: StateSchema) -> StateSchema:\n",
    "    \"\"\"Running conditional arimethic operation on inputs\"\"\"\n",
    "\n",
    "    if state['operator'] == \"+\":\n",
    "        state['result'] = f\"Hi {state['name']}, your answer is: {sum(state['value'])}\"\n",
    "        return state\n",
    "    elif state['operator'] == \"*\":\n",
    "        answer = reduce(lambda acc, i:acc * i, state['value'], 1)\n",
    "        state['result'] = f\"Hi {state['name']}, your answer is: {answer}\"\n",
    "        return state"
   ]
  },
  {
   "cell_type": "code",
   "execution_count": 18,
   "id": "94d49aff",
   "metadata": {},
   "outputs": [],
   "source": [
    "graph2 = StateGraph(StateSchema)\n",
    "graph2.add_node(\"task1\", task1)\n",
    "graph2.set_entry_point(\"task1\")\n",
    "graph2.set_finish_point(\"task1\")\n",
    "\n",
    "app2 = graph2.compile().invoke({\"name\":\"Jack Sparrow\", \"value\":[1,2,3,4], \"operator\":\"*\"})"
   ]
  },
  {
   "cell_type": "code",
   "execution_count": 19,
   "id": "397f2484",
   "metadata": {},
   "outputs": [
    {
     "data": {
      "text/plain": [
       "'Hi Jack Sparrow, your answer is: 24'"
      ]
     },
     "execution_count": 19,
     "metadata": {},
     "output_type": "execute_result"
    }
   ],
   "source": [
    "app2[\"result\"]"
   ]
  },
  {
   "cell_type": "code",
   "execution_count": null,
   "id": "2e608cfb",
   "metadata": {},
   "outputs": [],
   "source": []
  },
  {
   "cell_type": "code",
   "execution_count": null,
   "id": "2b5ffea2",
   "metadata": {},
   "outputs": [
    {
     "name": "stdout",
     "output_type": "stream",
     "text": [
      "48\n"
     ]
    }
   ],
   "source": []
  }
 ],
 "metadata": {
  "kernelspec": {
   "display_name": ".venv",
   "language": "python",
   "name": "python3"
  },
  "language_info": {
   "codemirror_mode": {
    "name": "ipython",
    "version": 3
   },
   "file_extension": ".py",
   "mimetype": "text/x-python",
   "name": "python",
   "nbconvert_exporter": "python",
   "pygments_lexer": "ipython3",
   "version": "3.11.9"
  }
 },
 "nbformat": 4,
 "nbformat_minor": 5
}
